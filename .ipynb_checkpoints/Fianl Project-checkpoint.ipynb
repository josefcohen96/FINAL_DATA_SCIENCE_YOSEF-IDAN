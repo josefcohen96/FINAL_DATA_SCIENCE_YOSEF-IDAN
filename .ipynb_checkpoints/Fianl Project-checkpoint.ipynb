{
 "cells": [
  {
   "cell_type": "markdown",
   "id": "4183790a",
   "metadata": {},
   "source": [
    "# Loan Prediction Analysis Problem\n",
    "##### Submitted by:  Yosef cohen & Idan rotshtein"
   ]
  },
  {
   "cell_type": "markdown",
   "id": "40d948f2",
   "metadata": {},
   "source": [
    "Our project will focus on the biggest question (**it will be our research question**) at Loan market:<br>\n",
    "* Does a random person who ask for a money as part of loan plan, will succeed to return the loan to the lender? **yes?** **no?** <br>\n",
    "\n",
    "**This is exactly what we going to predict!**"
   ]
  },
  {
   "cell_type": "markdown",
   "id": "0fa4d34f",
   "metadata": {},
   "source": [
    "## Background\n",
    "\n",
    "When the company (in our case: LendingClub) receives a loan application, the company has to make a decision for loan approval based on the applicant’s profile. Two types of risks are associated with the bank’s decision:\n",
    "\n",
    "* If the applicant is likely to repay the loan, then not approving the loan results in a loss of business to the company.\n",
    "* If the applicant is not likely to repay the loan, i.e. he/she is likely to default, then approving the loan may lead to a financial loss for the company.<br>\n",
    "\n",
    "The data given contains the information about past loan applicants and whether they 'defaulted' or not.<br>\n",
    "The aim is to identify patterns which indicate if a person is likely to default, which may be used for taking actions such as denying the loan, reducing the amount of loan, lending (to risky applicants) at a higher interest rate, etc."
   ]
  },
  {
   "cell_type": "markdown",
   "id": "3f49ae3b",
   "metadata": {},
   "source": [
    "## Research Question + General Details\n",
    "\n",
    "Like most other lending companies, lending loans to ‘risky’ applicants is the largest source of financial loss (called credit loss).<br>\n",
    "The credit loss is the amount of money lost by the lender when the borrower refuses to pay or runs away with the money owed.<br>\n",
    "In this case, the customers labelled as 'charged-off' are the 'defaulters'.<br>\n",
    "\n",
    "In addition, We know that our standard of living in growing, people are wasting more money for many reasons (we will see it later on).<br>\n",
    "This brings a lot of people to ask for a money loan from various loan companies.<br>\n",
    "Every company (as mentioned earlier) do not want to lose money and this is the point that we are getting into control.<br>\n",
    "\n",
    "**We are going to \"help\" those loan companies (in our case: LendingClub) to have a better risk analytics about each person, identify these risky loan applicants and to predict if they should approve the loan to a random person or not.<br>**"
   ]
  },
  {
   "cell_type": "markdown",
   "id": "e0fc459b",
   "metadata": {},
   "source": [
    "## Data Description\n",
    "\n",
    "Because of the fact that we are using a financial data that includes private data about people, we used exist dataset that was posted in one of the online loan companies at United State.<br>\n",
    "The name of the company is: **LendingClub**<br>\n",
    "We took the dataset and added additional data (scraping) in order to get interesting facts.\n",
    "\n",
    "Here is the information on this particular data set:\n",
    "\n",
    "|      | Loan Variables\t    | Description |\n",
    "| :-   | :-                 | :-          |\n",
    "| 0    | loan_amnt\t        | The listed amount of the loan applied for by the borrower. If at some point in time, the credit department reduces the loan amount, then it will be reflected in this value.|\n",
    "| 1    | term\t        | The number of payments on the loan. Values are in months and can be either 36 or 60.|\n",
    "| 2    | int_rate\t        | Interest Rate on the loan.|\n",
    "| 3    | installment\t        | The monthly payment owed by the borrower if the loan originates.|\n",
    "| 4    | grade\t        | LC assigned loan grade.|\n",
    "| 5    | sub_grade\t        | LC assigned loan subgrade.|\n",
    "| 6    | emp_title\t        | The job title supplied by the Borrower when applying for the loan.|\n",
    "| 7    | emp_length\t        | Employment length in years. Possible values are between 0 and 10 where 0 means less than one year and 10 means ten or more years.|\n",
    "| 8    | home_ownership\t\t        | The home ownership status provided by the borrower during registration or obtained from the credit report. Our values are: RENT, OWN, MORTGAGE, OTHER.|\n",
    "| 9    | annual_inc\t        | The self-reported annual income provided by the borrower during registration.|\n",
    "| 10    | verification_status\t        | Indicates if income was verified by LC, not verified, or if the income source was verified.|\n",
    "| 11    | issue_d\t        | The month which the loan was funded.|\n",
    "| 12    | loan_status\t        | Current status of the loan.|\n",
    "| 13    | purpose\t        | A category provided by the borrower for the loan request.|\n",
    "| 14    | title\t        | The loan title provided by the borrower.|\n",
    "| 15    | zip_code\t        | The first 3 numbers of the zip code provided by the borrower in the loan application.|\n",
    "| 16    | addr_state\t        | The state provided by the borrower in the loan application.|\n",
    "| 17    | dti\t        | A ratio calculated using the borrower’s total monthly debt payments on the total debt obligations, excluding mortgage and the requested LC loan, divided by the borrower’s self-reported monthly income.|\n",
    "| 18    | earliest_cr_line\t        | The month the borrower's earliest reported credit line was opened.|\n",
    "| 19    | open_acc\t        | The number of open credit lines in the borrower's credit file.|\n",
    "| 20    | pub_rec\t        | Number of derogatory public records.|\n",
    "| 21    | revol_bal\t        | Total credit revolving balance.|\n",
    "| 22    | revol_util\t        | Revolving line utilization rate, or the amount of credit the borrower is using relative to all available revolving credit.|\n",
    "| 23    | total_acc\t        | The total number of credit lines currently in the borrower's credit file.|\n",
    "| 24    | initial_list_status\t        | The initial listing status of the loan. Possible values are – W, F.|\n",
    "| 25    | application_type\t        | \tIndicates whether the loan is an individual application or a joint application with two co-borrowers.|\n",
    "| 26    | mort_acc\t\t        | Number of mortgage accounts.|\n",
    "| 27    | pub_rec_bankruptcies\t        | Number of public record bankruptcies.|\n",
    "| 28    | political_opinion\t        | Political opinion of the borrower based on state location.|\n",
    "| 29    | state\t        | State shortcut name of the borrower.|\n",
    "\n"
   ]
  },
  {
   "cell_type": "code",
   "execution_count": 3,
   "id": "b83465bb",
   "metadata": {},
   "outputs": [],
   "source": [
    "import pandas as pd\n",
    "import numpy as np\n",
    "import seaborn as sns\n",
    "import matplotlib.pyplot as plt\n",
    "from sklearn.model_selection import train_test_split\n",
    "from sklearn.preprocessing import MinMaxScaler\n",
    "from sklearn.ensemble import RandomForestClassifier\n",
    "from sklearn.metrics import (\n",
    "    accuracy_score, confusion_matrix, classification_report, \n",
    "    #roc_auc_score, roc_curve, auc,\n",
    "    plot_confusion_matrix, #plot_roc_curve\n",
    ")\n",
    "\n",
    "plt.style.use(\"fivethirtyeight\")\n",
    "sns.set_style('whitegrid')\n",
    "%matplotlib inline\n",
    "\n",
    "pd.set_option('display.float', '{:.2f}'.format)\n",
    "pd.set_option('display.max_columns', 50)\n",
    "pd.set_option('display.max_rows', 50)"
   ]
  },
  {
   "cell_type": "markdown",
   "id": "6d8e02f1",
   "metadata": {},
   "source": [
    "We will load our dataset from our .csv file to a dataframe:"
   ]
  },
  {
   "cell_type": "code",
   "execution_count": 5,
   "id": "231cb7e7",
   "metadata": {},
   "outputs": [
    {
     "data": {
      "text/html": [
       "<div>\n",
       "<style scoped>\n",
       "    .dataframe tbody tr th:only-of-type {\n",
       "        vertical-align: middle;\n",
       "    }\n",
       "\n",
       "    .dataframe tbody tr th {\n",
       "        vertical-align: top;\n",
       "    }\n",
       "\n",
       "    .dataframe thead th {\n",
       "        text-align: right;\n",
       "    }\n",
       "</style>\n",
       "<table border=\"1\" class=\"dataframe\">\n",
       "  <thead>\n",
       "    <tr style=\"text-align: right;\">\n",
       "      <th></th>\n",
       "      <th>loan_amnt</th>\n",
       "      <th>term</th>\n",
       "      <th>int_rate</th>\n",
       "      <th>installment</th>\n",
       "      <th>grade</th>\n",
       "      <th>sub_grade</th>\n",
       "      <th>emp_title</th>\n",
       "      <th>emp_length</th>\n",
       "      <th>home_ownership</th>\n",
       "      <th>annual_inc</th>\n",
       "      <th>verification_status</th>\n",
       "      <th>issue_d</th>\n",
       "      <th>loan_status</th>\n",
       "      <th>purpose</th>\n",
       "      <th>title</th>\n",
       "      <th>dti</th>\n",
       "      <th>earliest_cr_line</th>\n",
       "      <th>open_acc</th>\n",
       "      <th>pub_rec</th>\n",
       "      <th>revol_bal</th>\n",
       "      <th>revol_util</th>\n",
       "      <th>total_acc</th>\n",
       "      <th>initial_list_status</th>\n",
       "      <th>application_type</th>\n",
       "      <th>mort_acc</th>\n",
       "      <th>pub_rec_bankruptcies</th>\n",
       "      <th>address</th>\n",
       "      <th>political_opinion</th>\n",
       "      <th>state</th>\n",
       "    </tr>\n",
       "  </thead>\n",
       "  <tbody>\n",
       "    <tr>\n",
       "      <th>0</th>\n",
       "      <td>10000</td>\n",
       "      <td>36 months</td>\n",
       "      <td>11.44</td>\n",
       "      <td>329.48</td>\n",
       "      <td>B</td>\n",
       "      <td>B4</td>\n",
       "      <td>Marketing</td>\n",
       "      <td>10+ years</td>\n",
       "      <td>RENT</td>\n",
       "      <td>117000.00</td>\n",
       "      <td>Not Verified</td>\n",
       "      <td>15-Jan</td>\n",
       "      <td>Fully Paid</td>\n",
       "      <td>vacation</td>\n",
       "      <td>Vacation</td>\n",
       "      <td>26.24</td>\n",
       "      <td>1-Jun-90</td>\n",
       "      <td>16</td>\n",
       "      <td>0</td>\n",
       "      <td>36369</td>\n",
       "      <td>41.80</td>\n",
       "      <td>25</td>\n",
       "      <td>w</td>\n",
       "      <td>INDIVIDUAL</td>\n",
       "      <td>0.00</td>\n",
       "      <td>0.00</td>\n",
       "      <td>0174 Michelle Gateway\\nMendozaberg, OK 22690</td>\n",
       "      <td>Republican</td>\n",
       "      <td>OK</td>\n",
       "    </tr>\n",
       "    <tr>\n",
       "      <th>1</th>\n",
       "      <td>8000</td>\n",
       "      <td>36 months</td>\n",
       "      <td>11.99</td>\n",
       "      <td>265.68</td>\n",
       "      <td>B</td>\n",
       "      <td>B5</td>\n",
       "      <td>Credit analyst</td>\n",
       "      <td>4 years</td>\n",
       "      <td>MORTGAGE</td>\n",
       "      <td>65000.00</td>\n",
       "      <td>Not Verified</td>\n",
       "      <td>15-Jan</td>\n",
       "      <td>Fully Paid</td>\n",
       "      <td>debt_consolidation</td>\n",
       "      <td>Debt consolidation</td>\n",
       "      <td>22.05</td>\n",
       "      <td>4-Jul-22</td>\n",
       "      <td>17</td>\n",
       "      <td>0</td>\n",
       "      <td>20131</td>\n",
       "      <td>53.30</td>\n",
       "      <td>27</td>\n",
       "      <td>f</td>\n",
       "      <td>INDIVIDUAL</td>\n",
       "      <td>3.00</td>\n",
       "      <td>0.00</td>\n",
       "      <td>1076 Carney Fort Apt. 347\\nLoganmouth, SD 05113</td>\n",
       "      <td>Republican</td>\n",
       "      <td>SD</td>\n",
       "    </tr>\n",
       "    <tr>\n",
       "      <th>2</th>\n",
       "      <td>15600</td>\n",
       "      <td>36 months</td>\n",
       "      <td>10.49</td>\n",
       "      <td>506.97</td>\n",
       "      <td>B</td>\n",
       "      <td>B3</td>\n",
       "      <td>Statistician</td>\n",
       "      <td>&lt; 1 year</td>\n",
       "      <td>RENT</td>\n",
       "      <td>43057.00</td>\n",
       "      <td>Source Verified</td>\n",
       "      <td>15-Jan</td>\n",
       "      <td>Fully Paid</td>\n",
       "      <td>credit_card</td>\n",
       "      <td>Credit card refinancing</td>\n",
       "      <td>12.79</td>\n",
       "      <td>7-Aug-22</td>\n",
       "      <td>13</td>\n",
       "      <td>0</td>\n",
       "      <td>11987</td>\n",
       "      <td>92.20</td>\n",
       "      <td>26</td>\n",
       "      <td>f</td>\n",
       "      <td>INDIVIDUAL</td>\n",
       "      <td>0.00</td>\n",
       "      <td>0.00</td>\n",
       "      <td>87025 Mark Dale Apt. 269\\nNew Sabrina, WV 05113</td>\n",
       "      <td>Republican</td>\n",
       "      <td>WV</td>\n",
       "    </tr>\n",
       "    <tr>\n",
       "      <th>3</th>\n",
       "      <td>7200</td>\n",
       "      <td>36 months</td>\n",
       "      <td>6.49</td>\n",
       "      <td>220.65</td>\n",
       "      <td>A</td>\n",
       "      <td>A2</td>\n",
       "      <td>Client Advocate</td>\n",
       "      <td>6 years</td>\n",
       "      <td>RENT</td>\n",
       "      <td>54000.00</td>\n",
       "      <td>Not Verified</td>\n",
       "      <td>14-Nov</td>\n",
       "      <td>Fully Paid</td>\n",
       "      <td>credit_card</td>\n",
       "      <td>Credit card refinancing</td>\n",
       "      <td>2.60</td>\n",
       "      <td>6-Sep-22</td>\n",
       "      <td>6</td>\n",
       "      <td>0</td>\n",
       "      <td>5472</td>\n",
       "      <td>21.50</td>\n",
       "      <td>13</td>\n",
       "      <td>f</td>\n",
       "      <td>INDIVIDUAL</td>\n",
       "      <td>0.00</td>\n",
       "      <td>0.00</td>\n",
       "      <td>823 Reid Ford\\nDelacruzside, MA 00813</td>\n",
       "      <td>Divided Government</td>\n",
       "      <td>MA</td>\n",
       "    </tr>\n",
       "    <tr>\n",
       "      <th>4</th>\n",
       "      <td>24375</td>\n",
       "      <td>60 months</td>\n",
       "      <td>17.27</td>\n",
       "      <td>609.33</td>\n",
       "      <td>C</td>\n",
       "      <td>C5</td>\n",
       "      <td>Destiny Management Inc.</td>\n",
       "      <td>9 years</td>\n",
       "      <td>MORTGAGE</td>\n",
       "      <td>55000.00</td>\n",
       "      <td>Verified</td>\n",
       "      <td>13-Apr</td>\n",
       "      <td>Charged Off</td>\n",
       "      <td>credit_card</td>\n",
       "      <td>Credit Card Refinance</td>\n",
       "      <td>33.95</td>\n",
       "      <td>1-Mar-99</td>\n",
       "      <td>13</td>\n",
       "      <td>0</td>\n",
       "      <td>24584</td>\n",
       "      <td>69.80</td>\n",
       "      <td>43</td>\n",
       "      <td>f</td>\n",
       "      <td>INDIVIDUAL</td>\n",
       "      <td>1.00</td>\n",
       "      <td>0.00</td>\n",
       "      <td>679 Luna Roads\\nGreggshire, VA 11650</td>\n",
       "      <td>Divided Government</td>\n",
       "      <td>VA</td>\n",
       "    </tr>\n",
       "  </tbody>\n",
       "</table>\n",
       "</div>"
      ],
      "text/plain": [
       "   loan_amnt        term  int_rate  installment grade sub_grade  \\\n",
       "0      10000   36 months     11.44       329.48     B        B4   \n",
       "1       8000   36 months     11.99       265.68     B        B5   \n",
       "2      15600   36 months     10.49       506.97     B        B3   \n",
       "3       7200   36 months      6.49       220.65     A        A2   \n",
       "4      24375   60 months     17.27       609.33     C        C5   \n",
       "\n",
       "                 emp_title emp_length home_ownership  annual_inc  \\\n",
       "0                Marketing  10+ years           RENT   117000.00   \n",
       "1          Credit analyst     4 years       MORTGAGE    65000.00   \n",
       "2             Statistician   < 1 year           RENT    43057.00   \n",
       "3          Client Advocate    6 years           RENT    54000.00   \n",
       "4  Destiny Management Inc.    9 years       MORTGAGE    55000.00   \n",
       "\n",
       "  verification_status issue_d  loan_status             purpose  \\\n",
       "0        Not Verified  15-Jan   Fully Paid            vacation   \n",
       "1        Not Verified  15-Jan   Fully Paid  debt_consolidation   \n",
       "2     Source Verified  15-Jan   Fully Paid         credit_card   \n",
       "3        Not Verified  14-Nov   Fully Paid         credit_card   \n",
       "4            Verified  13-Apr  Charged Off         credit_card   \n",
       "\n",
       "                     title   dti earliest_cr_line  open_acc  pub_rec  \\\n",
       "0                 Vacation 26.24         1-Jun-90        16        0   \n",
       "1       Debt consolidation 22.05         4-Jul-22        17        0   \n",
       "2  Credit card refinancing 12.79         7-Aug-22        13        0   \n",
       "3  Credit card refinancing  2.60         6-Sep-22         6        0   \n",
       "4    Credit Card Refinance 33.95         1-Mar-99        13        0   \n",
       "\n",
       "   revol_bal  revol_util  total_acc initial_list_status application_type  \\\n",
       "0      36369       41.80         25                   w       INDIVIDUAL   \n",
       "1      20131       53.30         27                   f       INDIVIDUAL   \n",
       "2      11987       92.20         26                   f       INDIVIDUAL   \n",
       "3       5472       21.50         13                   f       INDIVIDUAL   \n",
       "4      24584       69.80         43                   f       INDIVIDUAL   \n",
       "\n",
       "   mort_acc  pub_rec_bankruptcies  \\\n",
       "0      0.00                  0.00   \n",
       "1      3.00                  0.00   \n",
       "2      0.00                  0.00   \n",
       "3      0.00                  0.00   \n",
       "4      1.00                  0.00   \n",
       "\n",
       "                                           address   political_opinion state  \n",
       "0     0174 Michelle Gateway\\nMendozaberg, OK 22690          Republican    OK  \n",
       "1  1076 Carney Fort Apt. 347\\nLoganmouth, SD 05113          Republican    SD  \n",
       "2  87025 Mark Dale Apt. 269\\nNew Sabrina, WV 05113          Republican    WV  \n",
       "3            823 Reid Ford\\nDelacruzside, MA 00813  Divided Government    MA  \n",
       "4             679 Luna Roads\\nGreggshire, VA 11650  Divided Government    VA  "
      ]
     },
     "execution_count": 5,
     "metadata": {},
     "output_type": "execute_result"
    }
   ],
   "source": [
    "data = pd.read_csv(r\"lending_club_loan_dataset_with_political_opinion.csv\")\n",
    "data.head()"
   ]
  },
  {
   "cell_type": "markdown",
   "id": "22da560e",
   "metadata": {},
   "source": [
    "## Data Analysis\n",
    "\n",
    "We want to understand which variables are important, view summary statistics, and visualize the data."
   ]
  },
  {
   "cell_type": "code",
   "execution_count": 6,
   "id": "bf9762d9",
   "metadata": {},
   "outputs": [
    {
     "data": {
      "text/html": [
       "<div>\n",
       "<style scoped>\n",
       "    .dataframe tbody tr th:only-of-type {\n",
       "        vertical-align: middle;\n",
       "    }\n",
       "\n",
       "    .dataframe tbody tr th {\n",
       "        vertical-align: top;\n",
       "    }\n",
       "\n",
       "    .dataframe thead th {\n",
       "        text-align: right;\n",
       "    }\n",
       "</style>\n",
       "<table border=\"1\" class=\"dataframe\">\n",
       "  <thead>\n",
       "    <tr style=\"text-align: right;\">\n",
       "      <th></th>\n",
       "      <th>loan_amnt</th>\n",
       "      <th>int_rate</th>\n",
       "      <th>installment</th>\n",
       "      <th>annual_inc</th>\n",
       "      <th>dti</th>\n",
       "      <th>open_acc</th>\n",
       "      <th>pub_rec</th>\n",
       "      <th>revol_bal</th>\n",
       "      <th>revol_util</th>\n",
       "      <th>total_acc</th>\n",
       "      <th>mort_acc</th>\n",
       "      <th>pub_rec_bankruptcies</th>\n",
       "    </tr>\n",
       "  </thead>\n",
       "  <tbody>\n",
       "    <tr>\n",
       "      <th>count</th>\n",
       "      <td>396030.00</td>\n",
       "      <td>396030.00</td>\n",
       "      <td>396030.00</td>\n",
       "      <td>396030.00</td>\n",
       "      <td>396030.00</td>\n",
       "      <td>396030.00</td>\n",
       "      <td>396030.00</td>\n",
       "      <td>396030.00</td>\n",
       "      <td>395754.00</td>\n",
       "      <td>396030.00</td>\n",
       "      <td>358235.00</td>\n",
       "      <td>395495.00</td>\n",
       "    </tr>\n",
       "    <tr>\n",
       "      <th>mean</th>\n",
       "      <td>14113.89</td>\n",
       "      <td>13.64</td>\n",
       "      <td>431.85</td>\n",
       "      <td>74203.18</td>\n",
       "      <td>17.38</td>\n",
       "      <td>11.31</td>\n",
       "      <td>0.18</td>\n",
       "      <td>15844.54</td>\n",
       "      <td>53.79</td>\n",
       "      <td>25.41</td>\n",
       "      <td>1.81</td>\n",
       "      <td>0.12</td>\n",
       "    </tr>\n",
       "    <tr>\n",
       "      <th>std</th>\n",
       "      <td>8357.44</td>\n",
       "      <td>4.47</td>\n",
       "      <td>250.73</td>\n",
       "      <td>61637.62</td>\n",
       "      <td>18.02</td>\n",
       "      <td>5.14</td>\n",
       "      <td>0.53</td>\n",
       "      <td>20591.84</td>\n",
       "      <td>24.45</td>\n",
       "      <td>11.89</td>\n",
       "      <td>2.15</td>\n",
       "      <td>0.36</td>\n",
       "    </tr>\n",
       "    <tr>\n",
       "      <th>min</th>\n",
       "      <td>500.00</td>\n",
       "      <td>5.32</td>\n",
       "      <td>16.08</td>\n",
       "      <td>0.00</td>\n",
       "      <td>0.00</td>\n",
       "      <td>0.00</td>\n",
       "      <td>0.00</td>\n",
       "      <td>0.00</td>\n",
       "      <td>0.00</td>\n",
       "      <td>2.00</td>\n",
       "      <td>0.00</td>\n",
       "      <td>0.00</td>\n",
       "    </tr>\n",
       "    <tr>\n",
       "      <th>25%</th>\n",
       "      <td>8000.00</td>\n",
       "      <td>10.49</td>\n",
       "      <td>250.33</td>\n",
       "      <td>45000.00</td>\n",
       "      <td>11.28</td>\n",
       "      <td>8.00</td>\n",
       "      <td>0.00</td>\n",
       "      <td>6025.00</td>\n",
       "      <td>35.80</td>\n",
       "      <td>17.00</td>\n",
       "      <td>0.00</td>\n",
       "      <td>0.00</td>\n",
       "    </tr>\n",
       "    <tr>\n",
       "      <th>50%</th>\n",
       "      <td>12000.00</td>\n",
       "      <td>13.33</td>\n",
       "      <td>375.43</td>\n",
       "      <td>64000.00</td>\n",
       "      <td>16.91</td>\n",
       "      <td>10.00</td>\n",
       "      <td>0.00</td>\n",
       "      <td>11181.00</td>\n",
       "      <td>54.80</td>\n",
       "      <td>24.00</td>\n",
       "      <td>1.00</td>\n",
       "      <td>0.00</td>\n",
       "    </tr>\n",
       "    <tr>\n",
       "      <th>75%</th>\n",
       "      <td>20000.00</td>\n",
       "      <td>16.49</td>\n",
       "      <td>567.30</td>\n",
       "      <td>90000.00</td>\n",
       "      <td>22.98</td>\n",
       "      <td>14.00</td>\n",
       "      <td>0.00</td>\n",
       "      <td>19620.00</td>\n",
       "      <td>72.90</td>\n",
       "      <td>32.00</td>\n",
       "      <td>3.00</td>\n",
       "      <td>0.00</td>\n",
       "    </tr>\n",
       "    <tr>\n",
       "      <th>max</th>\n",
       "      <td>40000.00</td>\n",
       "      <td>30.99</td>\n",
       "      <td>1533.81</td>\n",
       "      <td>8706582.00</td>\n",
       "      <td>9999.00</td>\n",
       "      <td>90.00</td>\n",
       "      <td>86.00</td>\n",
       "      <td>1743266.00</td>\n",
       "      <td>892.30</td>\n",
       "      <td>151.00</td>\n",
       "      <td>34.00</td>\n",
       "      <td>8.00</td>\n",
       "    </tr>\n",
       "  </tbody>\n",
       "</table>\n",
       "</div>"
      ],
      "text/plain": [
       "       loan_amnt  int_rate  installment  annual_inc       dti  open_acc  \\\n",
       "count  396030.00 396030.00    396030.00   396030.00 396030.00 396030.00   \n",
       "mean    14113.89     13.64       431.85    74203.18     17.38     11.31   \n",
       "std      8357.44      4.47       250.73    61637.62     18.02      5.14   \n",
       "min       500.00      5.32        16.08        0.00      0.00      0.00   \n",
       "25%      8000.00     10.49       250.33    45000.00     11.28      8.00   \n",
       "50%     12000.00     13.33       375.43    64000.00     16.91     10.00   \n",
       "75%     20000.00     16.49       567.30    90000.00     22.98     14.00   \n",
       "max     40000.00     30.99      1533.81  8706582.00   9999.00     90.00   \n",
       "\n",
       "        pub_rec  revol_bal  revol_util  total_acc  mort_acc  \\\n",
       "count 396030.00  396030.00   395754.00  396030.00 358235.00   \n",
       "mean       0.18   15844.54       53.79      25.41      1.81   \n",
       "std        0.53   20591.84       24.45      11.89      2.15   \n",
       "min        0.00       0.00        0.00       2.00      0.00   \n",
       "25%        0.00    6025.00       35.80      17.00      0.00   \n",
       "50%        0.00   11181.00       54.80      24.00      1.00   \n",
       "75%        0.00   19620.00       72.90      32.00      3.00   \n",
       "max       86.00 1743266.00      892.30     151.00     34.00   \n",
       "\n",
       "       pub_rec_bankruptcies  \n",
       "count             395495.00  \n",
       "mean                   0.12  \n",
       "std                    0.36  \n",
       "min                    0.00  \n",
       "25%                    0.00  \n",
       "50%                    0.00  \n",
       "75%                    0.00  \n",
       "max                    8.00  "
      ]
     },
     "execution_count": 6,
     "metadata": {},
     "output_type": "execute_result"
    }
   ],
   "source": [
    "data.describe()"
   ]
  },
  {
   "cell_type": "code",
   "execution_count": 7,
   "id": "007faa12",
   "metadata": {},
   "outputs": [
    {
     "name": "stdout",
     "output_type": "stream",
     "text": [
      "<class 'pandas.core.frame.DataFrame'>\n",
      "RangeIndex: 396030 entries, 0 to 396029\n",
      "Data columns (total 29 columns):\n",
      " #   Column                Non-Null Count   Dtype  \n",
      "---  ------                --------------   -----  \n",
      " 0   loan_amnt             396030 non-null  int64  \n",
      " 1   term                  396030 non-null  object \n",
      " 2   int_rate              396030 non-null  float64\n",
      " 3   installment           396030 non-null  float64\n",
      " 4   grade                 396030 non-null  object \n",
      " 5   sub_grade             396030 non-null  object \n",
      " 6   emp_title             373103 non-null  object \n",
      " 7   emp_length            377729 non-null  object \n",
      " 8   home_ownership        396030 non-null  object \n",
      " 9   annual_inc            396030 non-null  float64\n",
      " 10  verification_status   396030 non-null  object \n",
      " 11  issue_d               396030 non-null  object \n",
      " 12  loan_status           396030 non-null  object \n",
      " 13  purpose               396030 non-null  object \n",
      " 14  title                 394275 non-null  object \n",
      " 15  dti                   396030 non-null  float64\n",
      " 16  earliest_cr_line      396030 non-null  object \n",
      " 17  open_acc              396030 non-null  int64  \n",
      " 18  pub_rec               396030 non-null  int64  \n",
      " 19  revol_bal             396030 non-null  int64  \n",
      " 20  revol_util            395754 non-null  float64\n",
      " 21  total_acc             396030 non-null  int64  \n",
      " 22  initial_list_status   396030 non-null  object \n",
      " 23  application_type      396030 non-null  object \n",
      " 24  mort_acc              358235 non-null  float64\n",
      " 25  pub_rec_bankruptcies  395495 non-null  float64\n",
      " 26  address               396030 non-null  object \n",
      " 27  political_opinion     346804 non-null  object \n",
      " 28  state                 346804 non-null  object \n",
      "dtypes: float64(7), int64(5), object(17)\n",
      "memory usage: 87.6+ MB\n"
     ]
    }
   ],
   "source": [
    "data.info()"
   ]
  },
  {
   "cell_type": "markdown",
   "id": "90abeb9f",
   "metadata": {},
   "source": [
    "Let's start with understanding how much people succeed or not succeed to return the loan:"
   ]
  },
  {
   "cell_type": "code",
   "execution_count": 8,
   "id": "544ca810",
   "metadata": {},
   "outputs": [
    {
     "data": {
      "text/plain": [
       "<AxesSubplot:xlabel='loan_status', ylabel='count'>"
      ]
     },
     "execution_count": 8,
     "metadata": {},
     "output_type": "execute_result"
    },
    {
     "data": {
      "image/png": "[encoded data removed]",
      "text/plain": [
       "<Figure size 432x288 with 1 Axes>"
      ]
     },
     "metadata": {
      "needs_background": "light"
     },
     "output_type": "display_data"
    }
   ],
   "source": [
    "sns.countplot(x='loan_status', data=data)"
   ]
  },
  {
   "cell_type": "code",
   "execution_count": 9,
   "id": "e5ec3707",
   "metadata": {},
   "outputs": [
    {
     "name": "stdout",
     "output_type": "stream",
     "text": [
      "Weight of positive values 0.8038709188697826\n",
      "Weight of negative values 0.1961290811302174\n"
     ]
    }
   ],
   "source": [
    "fully_paid_weight = data.loan_status.value_counts()[0] / data.shape[0]\n",
    "charged_off_weight = data.loan_status.value_counts()[1] / data.shape[0]\n",
    "\n",
    "print(f\"Weight of positive values {fully_paid_weight}\")\n",
    "print(f\"Weight of negative values {charged_off_weight}\")"
   ]
  },
  {
   "cell_type": "markdown",
   "id": "ed6b2653",
   "metadata": {},
   "source": [
    "We can see globally that **~80%** are succeeding and **~20%** are not succeeding to return the loan without penalties."
   ]
  },
  {
   "cell_type": "markdown",
   "id": "6363e90a",
   "metadata": {},
   "source": [
    "Now, let's find out the correlation between all the numeric variables.<br>\n",
    "We will use heatmap plot that will demonstrate which column have more or less correlation:"
   ]
  },
  {
   "cell_type": "code",
   "execution_count": 10,
   "id": "551a1d37",
   "metadata": {
    "scrolled": false
   },
   "outputs": [
    {
     "data": {
      "text/plain": [
       "<AxesSubplot:>"
      ]
     },
     "execution_count": 10,
     "metadata": {},
     "output_type": "execute_result"
    },
    {
     "data": {
      "image/png": "[encoded data removed]",
      "text/plain": [
       "<Figure size 864x576 with 2 Axes>"
      ]
     },
     "metadata": {
      "needs_background": "light"
     },
     "output_type": "display_data"
    }
   ],
   "source": [
    "plt.figure(figsize=(12, 8))\n",
    "sns.heatmap(data.corr(), annot=True, cmap='viridis')"
   ]
  },
  {
   "cell_type": "markdown",
   "id": "693006b2",
   "metadata": {},
   "source": [
    "\n",
    "**We can see that we got almost perfect correlation between ``loan_amnt`` with ``installment`` variables.**<br>\n",
    "We'll explore this features further now: "
   ]
  },
  {
   "cell_type": "code",
   "execution_count": 11,
   "id": "942ce181",
   "metadata": {
    "scrolled": false
   },
   "outputs": [
    {
     "data": {
      "text/plain": [
       "<AxesSubplot:xlabel='installment', ylabel='loan_amnt'>"
      ]
     },
     "execution_count": 11,
     "metadata": {},
     "output_type": "execute_result"
    },
    {
     "data": {
      "image/png": "[encoded data removed]",
      "text/plain": [
       "<Figure size 864x1440 with 3 Axes>"
      ]
     },
     "metadata": {
      "needs_background": "light"
     },
     "output_type": "display_data"
    }
   ],
   "source": [
    "plt.figure(figsize=(12, 20))\n",
    "\n",
    "plt.subplot(4, 2, 1)\n",
    "data[data[\"loan_status\"] == \"Fully Paid\"][\"installment\"].hist(bins=35, color='blue', label='loan_status = Fully Paid', alpha=0.6)\n",
    "data[data[\"loan_status\"] == \"Charged Off\"][\"installment\"].hist(bins=35, color='red', label='loan_status = Charged Off', alpha=0.6)\n",
    "plt.legend()\n",
    "plt.xlabel(\"installment\")\n",
    "\n",
    "plt.subplot(4, 2, 2)\n",
    "data[data[\"loan_status\"] == \"Fully Paid\"][\"loan_amnt\"].hist(bins=35, color='blue', label='loan_status = Fully Paid', alpha=0.6)\n",
    "data[data[\"loan_status\"] == \"Charged Off\"][\"loan_amnt\"].hist(bins=35, color='red', label='loan_status = Charged Off', alpha=0.6)\n",
    "plt.legend()\n",
    "plt.xlabel(\"loan_amnt\")\n",
    "\n",
    "plt.subplot(4, 2, 3)\n",
    "sns.scatterplot(x='installment', y='loan_amnt', data=data)"
   ]
  },
  {
   "cell_type": "markdown",
   "id": "cf626cdb",
   "metadata": {},
   "source": [
    "* We can see that we have some outliers in the ``loan_amount`` while looking on the \"Charged Off\" values as part of ``loan_status`` column. These outliers will be fix later on (normalizing the data).\n",
    "* We can see that the most people are taking a loan with **~300-450** installments.\n",
    "* We can see that the most common loan amount is **~10,000$**.\n",
    "* We can see from the installment histogram that as the number of installments is growing,  the success of returning the loan without any penelties is increasing too and vice versa."
   ]
  },
  {
   "cell_type": "code",
   "execution_count": 1036,
   "id": "afb62dc2",
   "metadata": {},
   "outputs": [
    {
     "data": {
      "text/html": [
       "<div>\n",
       "<style scoped>\n",
       "    .dataframe tbody tr th:only-of-type {\n",
       "        vertical-align: middle;\n",
       "    }\n",
       "\n",
       "    .dataframe tbody tr th {\n",
       "        vertical-align: top;\n",
       "    }\n",
       "\n",
       "    .dataframe thead th {\n",
       "        text-align: right;\n",
       "    }\n",
       "</style>\n",
       "<table border=\"1\" class=\"dataframe\">\n",
       "  <thead>\n",
       "    <tr style=\"text-align: right;\">\n",
       "      <th></th>\n",
       "      <th>count</th>\n",
       "      <th>mean</th>\n",
       "      <th>std</th>\n",
       "      <th>min</th>\n",
       "      <th>25%</th>\n",
       "      <th>50%</th>\n",
       "      <th>75%</th>\n",
       "      <th>max</th>\n",
       "    </tr>\n",
       "    <tr>\n",
       "      <th>loan_status</th>\n",
       "      <th></th>\n",
       "      <th></th>\n",
       "      <th></th>\n",
       "      <th></th>\n",
       "      <th></th>\n",
       "      <th></th>\n",
       "      <th></th>\n",
       "      <th></th>\n",
       "    </tr>\n",
       "  </thead>\n",
       "  <tbody>\n",
       "    <tr>\n",
       "      <th>Charged Off</th>\n",
       "      <td>77673.00</td>\n",
       "      <td>15126.30</td>\n",
       "      <td>8505.09</td>\n",
       "      <td>1000.00</td>\n",
       "      <td>8525.00</td>\n",
       "      <td>14000.00</td>\n",
       "      <td>20000.00</td>\n",
       "      <td>40000.00</td>\n",
       "    </tr>\n",
       "    <tr>\n",
       "      <th>Fully Paid</th>\n",
       "      <td>318357.00</td>\n",
       "      <td>13866.88</td>\n",
       "      <td>8302.32</td>\n",
       "      <td>500.00</td>\n",
       "      <td>7500.00</td>\n",
       "      <td>12000.00</td>\n",
       "      <td>19225.00</td>\n",
       "      <td>40000.00</td>\n",
       "    </tr>\n",
       "  </tbody>\n",
       "</table>\n",
       "</div>"
      ],
      "text/plain": [
       "                count     mean     std     min     25%      50%      75%  \\\n",
       "loan_status                                                                \n",
       "Charged Off  77673.00 15126.30 8505.09 1000.00 8525.00 14000.00 20000.00   \n",
       "Fully Paid  318357.00 13866.88 8302.32  500.00 7500.00 12000.00 19225.00   \n",
       "\n",
       "                 max  \n",
       "loan_status           \n",
       "Charged Off 40000.00  \n",
       "Fully Paid  40000.00  "
      ]
     },
     "execution_count": 1036,
     "metadata": {},
     "output_type": "execute_result"
    }
   ],
   "source": [
    "data.groupby(by='loan_status')['loan_amnt'].describe()"
   ]
  },
  {
   "cell_type": "markdown",
   "id": "2a8435ef",
   "metadata": {},
   "source": [
    "Now we will explore the ``Grade`` and ``SubGrade`` columns attributes."
   ]
  },
  {
   "cell_type": "code",
   "execution_count": 1037,
   "id": "5fb4a9d6",
   "metadata": {},
   "outputs": [
    {
     "name": "stdout",
     "output_type": "stream",
     "text": [
      "GRADE unique: ['B' 'A' 'C' 'E' 'D' 'F' 'G']\n",
      "SUB_GRADE unique: ['B4' 'B5' 'B3' 'A2' 'C5' 'C3' 'A1' 'B2' 'C1' 'A5' 'E4' 'A4' 'A3' 'D1'\n",
      " 'C2' 'B1' 'D3' 'D5' 'D2' 'E1' 'E2' 'E5' 'F4' 'E3' 'D4' 'G1' 'F5' 'G2'\n",
      " 'C4' 'F1' 'F3' 'G5' 'G4' 'F2' 'G3']\n"
     ]
    }
   ],
   "source": [
    "print(f\"GRADE unique: {data.grade.unique()}\")\n",
    "print(f\"SUB_GRADE unique: {data.sub_grade.unique()}\")"
   ]
  },
  {
   "cell_type": "code",
   "execution_count": 1038,
   "id": "d0e23312",
   "metadata": {},
   "outputs": [
    {
     "data": {
      "image/png": "[encoded data removed]",
      "text/plain": [
       "<Figure size 1080x720 with 2 Axes>"
      ]
     },
     "metadata": {
      "needs_background": "light"
     },
     "output_type": "display_data"
    }
   ],
   "source": [
    "plt.figure(figsize=(15, 10))\n",
    "\n",
    "plt.subplot(2, 2, 1)\n",
    "grade = sorted(data.grade.unique().tolist())\n",
    "sns.countplot(x='grade', data=data, hue='loan_status', order=grade)\n",
    "\n",
    "plt.subplot(2, 2, 2)\n",
    "sub_grade = sorted(data.sub_grade.unique().tolist())\n",
    "g = sns.countplot(x='sub_grade', data=data, hue='loan_status', order=sub_grade)\n",
    "g.set_xticklabels(g.get_xticklabels(), rotation=90);"
   ]
  },
  {
   "cell_type": "markdown",
   "id": "994a7bcd",
   "metadata": {},
   "source": [
    "We can see that ``F`` and ``G`` subgrades don't get paid back that often. \n",
    "Now we will isloate those and recreate the countplot just for those subgrades."
   ]
  },
  {
   "cell_type": "code",
   "execution_count": 1039,
   "id": "4fbbd6e0",
   "metadata": {},
   "outputs": [
    {
     "data": {
      "text/plain": [
       "<AxesSubplot:xlabel='sub_grade', ylabel='count'>"
      ]
     },
     "execution_count": 1039,
     "metadata": {},
     "output_type": "execute_result"
    },
    {
     "data": {
      "image/png": "[encoded data removed]",
      "text/plain": [
       "<Figure size 1080x720 with 2 Axes>"
      ]
     },
     "metadata": {
      "needs_background": "light"
     },
     "output_type": "display_data"
    }
   ],
   "source": [
    "df = data[(data.grade == 'F') | (data.grade == 'G')]\n",
    "\n",
    "plt.figure(figsize=(15, 10))\n",
    "\n",
    "plt.subplot(2, 2, 1)\n",
    "grade = sorted(df.grade.unique().tolist())\n",
    "sns.countplot(x='grade', data=df, hue='loan_status', order=grade)\n",
    "\n",
    "plt.subplot(2, 2, 2)\n",
    "sub_grade = sorted(df.sub_grade.unique().tolist())\n",
    "sns.countplot(x='sub_grade', data=df, hue='loan_status', order=sub_grade)\n"
   ]
  },
  {
   "cell_type": "markdown",
   "id": "c927d129",
   "metadata": {},
   "source": [
    "We will continue to explore ``term``, ``home_ownership``, ``verification_status`` and ``purpose`` columns attributes."
   ]
  },
  {
   "cell_type": "code",
   "execution_count": 1040,
   "id": "90d0f43c",
   "metadata": {},
   "outputs": [
    {
     "data": {
      "text/plain": [
       "MORTGAGE    198348\n",
       "RENT        159790\n",
       "OWN          37746\n",
       "OTHER          112\n",
       "NONE            31\n",
       "ANY              3\n",
       "Name: home_ownership, dtype: int64"
      ]
     },
     "execution_count": 1040,
     "metadata": {},
     "output_type": "execute_result"
    }
   ],
   "source": [
    "data.home_ownership.value_counts()"
   ]
  },
  {
   "cell_type": "code",
   "execution_count": 1041,
   "id": "fd26e5cb",
   "metadata": {},
   "outputs": [
    {
     "data": {
      "text/plain": [
       "MORTGAGE    198348\n",
       "RENT        159790\n",
       "OWN          37746\n",
       "OTHER          146\n",
       "Name: home_ownership, dtype: int64"
      ]
     },
     "execution_count": 1041,
     "metadata": {},
     "output_type": "execute_result"
    }
   ],
   "source": [
    "data.loc[(data.home_ownership == 'ANY') | (data.home_ownership == 'NONE'), 'home_ownership'] = 'OTHER'  \n",
    "data.home_ownership.value_counts()"
   ]
  },
  {
   "cell_type": "code",
   "execution_count": 1042,
   "id": "c5bd4b87",
   "metadata": {},
   "outputs": [
    {
     "data": {
      "image/png": "[encoded data removed]",
      "text/plain": [
       "<Figure size 1080x1440 with 4 Axes>"
      ]
     },
     "metadata": {
      "needs_background": "light"
     },
     "output_type": "display_data"
    }
   ],
   "source": [
    "plt.figure(figsize=(15, 20))\n",
    "\n",
    "plt.subplot(4, 2, 1)\n",
    "sns.countplot(x='term', data=data, hue='loan_status')\n",
    "\n",
    "plt.subplot(4, 2, 2)\n",
    "sns.countplot(x='home_ownership', data=data, hue='loan_status')\n",
    "\n",
    "plt.subplot(4, 2, 3)\n",
    "sns.countplot(x='verification_status', data=data, hue='loan_status')\n",
    "\n",
    "plt.subplot(4, 2, 4)\n",
    "g = sns.countplot(x='purpose', data=data, hue='loan_status')\n",
    "g.set_xticklabels(g.get_xticklabels(), rotation=90);"
   ]
  },
  {
   "cell_type": "markdown",
   "id": "510eaa63",
   "metadata": {},
   "source": [
    "Those charts giving us interesting facts such as:\n",
    "* There are a lot more people that take a loan for 36 months and not for 60 months.\n",
    "* In addition, we can see that people with ``home_ownership``=**[RENT, MORTGAGE]** are more likely to take a loan.\n",
    "* We can see that people that taking a loan with a ``purpose``=**debt_consilidation** have more chance to be charged off.\n",
    "* ``purpose``=**[debt_consilidation, credit_card]** are the most common purposes for loans."
   ]
  },
  {
   "cell_type": "markdown",
   "id": "63aa93ec",
   "metadata": {},
   "source": [
    "We will continue to explore ``int_rate`` ``annual_inc`` columns attributes."
   ]
  },
  {
   "cell_type": "code",
   "execution_count": 12,
   "id": "32df65a6",
   "metadata": {
    "scrolled": false
   },
   "outputs": [
    {
     "data": {
      "text/plain": [
       "Text(0.5, 0, 'annual_inc')"
      ]
     },
     "execution_count": 12,
     "metadata": {},
     "output_type": "execute_result"
    },
    {
     "data": {
      "image/png": "[encoded data removed]",
      "text/plain": [
       "<Figure size 1080x720 with 2 Axes>"
      ]
     },
     "metadata": {
      "needs_background": "light"
     },
     "output_type": "display_data"
    }
   ],
   "source": [
    "plt.figure(figsize=(15, 10))\n",
    "\n",
    "plt.subplot(2, 2, 1)\n",
    "data[data[\"loan_status\"] == \"Fully Paid\"][\"int_rate\"].hist(bins=50, color='blue', label='loan_status = Fully Paid', alpha=0.6)\n",
    "data[data[\"loan_status\"] == \"Charged Off\"][\"int_rate\"].hist(bins=50, color='red', label='loan_status = Charged Off', alpha=0.6)\n",
    "plt.legend()\n",
    "plt.xlabel(\"int_rate\")\n",
    "\n",
    "plt.subplot(2, 2, 2)\n",
    "plt.hist(data[data[\"loan_status\"] == \"Fully Paid\"][\"annual_inc\"], 50, range=[15000,300000], color='blue', label='loan_status = Fully Paid', alpha=0.6)\n",
    "plt.hist(data[data[\"loan_status\"] == \"Charged Off\"][\"annual_inc\"], 50, range=[15000,300000], color='red', label='loan_status = Charged Off', alpha=0.6)\n",
    "plt.legend()\n",
    "plt.xlabel(\"annual_inc\")"
   ]
  },
  {
   "cell_type": "markdown",
   "id": "d58fd371",
   "metadata": {},
   "source": [
    "Those charts giving us interesting facts such as:\n",
    "* We can see clearly that as much that the ``int_rate`` is higher, the chances not to succeed to return the loan without penalties is higher too.\n",
    "* In addition, we can see that it's more common to take a loan when people's annual salaray  (``annual_inc``) is  between **~40,000 and ~60,000 dollars**.\n",
    "* We can see more that as much people's annual salaray is higher, loan needs are decreased and vice versa."
   ]
  },
  {
   "cell_type": "code",
   "execution_count": 1044,
   "id": "88af7850",
   "metadata": {},
   "outputs": [
    {
     "data": {
      "text/plain": [
       "(75, 29)"
      ]
     },
     "execution_count": 1044,
     "metadata": {},
     "output_type": "execute_result"
    }
   ],
   "source": [
    "data[data.annual_inc >= 1000000].shape"
   ]
  },
  {
   "cell_type": "markdown",
   "id": "0a906a27",
   "metadata": {},
   "source": [
    "* Only 75 borrowers have an annual income more than 1 million."
   ]
  },
  {
   "cell_type": "markdown",
   "id": "0d548087",
   "metadata": {},
   "source": [
    "We will continue to explore ``emp_title`` and ``emp_length`` columns attributes:"
   ]
  },
  {
   "cell_type": "code",
   "execution_count": 1045,
   "id": "ad1625bd",
   "metadata": {},
   "outputs": [],
   "source": [
    "data['emp_title'] = data.emp_title.str.lower()"
   ]
  },
  {
   "cell_type": "code",
   "execution_count": 1046,
   "id": "b87cdaa8",
   "metadata": {},
   "outputs": [
    {
     "data": {
      "text/plain": [
       "manager                     5637\n",
       "teacher                     5430\n",
       "registered nurse            2627\n",
       "supervisor                  2591\n",
       "sales                       2382\n",
       "driver                      2306\n",
       "owner                       2201\n",
       "rn                          2074\n",
       "project manager             1776\n",
       "office manager              1638\n",
       "general manager             1461\n",
       "truck driver                1288\n",
       "director                    1192\n",
       "engineer                    1188\n",
       "police officer              1041\n",
       "vice president               962\n",
       "sales manager                961\n",
       "operations manager           961\n",
       "store manager                941\n",
       "president                    877\n",
       "administrative assistant     865\n",
       "account manager              845\n",
       "accountant                   845\n",
       "technician                   839\n",
       "mechanic                     753\n",
       "attorney                     744\n",
       "nurse                        738\n",
       "analyst                      703\n",
       "executive assistant          695\n",
       "us army                      671\n",
       "Name: emp_title, dtype: int64"
      ]
     },
     "execution_count": 1046,
     "metadata": {},
     "output_type": "execute_result"
    }
   ],
   "source": [
    "data.emp_title.value_counts()[:30]\n"
   ]
  },
  {
   "cell_type": "code",
   "execution_count": 1047,
   "id": "80efc961",
   "metadata": {},
   "outputs": [
    {
     "data": {
      "image/png": "[encoded data removed]",
      "text/plain": [
       "<Figure size 1080x864 with 2 Axes>"
      ]
     },
     "metadata": {
      "needs_background": "light"
     },
     "output_type": "display_data"
    }
   ],
   "source": [
    "plt.figure(figsize=(15, 12))\n",
    "\n",
    "plt.subplot(2, 2, 1)\n",
    "order = ['< 1 year', '1 year', '2 years', '3 years', '4 years', '5 years', \n",
    "          '6 years', '7 years', '8 years', '9 years', '10+ years',]\n",
    "g = sns.countplot(x='emp_length', data=data, hue='loan_status', order=order)\n",
    "g.set_xticklabels(g.get_xticklabels(), rotation=90);\n",
    "\n",
    "plt.subplot(2, 2, 2)\n",
    "plt.barh(data.emp_title.value_counts()[:30].index, data.emp_title.value_counts()[:30])\n",
    "plt.title(\"The most 30 jobs title afforded a loan\")\n",
    "plt.tight_layout()"
   ]
  },
  {
   "cell_type": "markdown",
   "id": "182b927b",
   "metadata": {},
   "source": [
    "Those charts giving us interesting facts such as:\n",
    "* We can see that people with ``emp_lenth``=**\"10+ years\"** are way more likely to take a loan  and to succeed to pay loan's money.<br>\n",
    "* We can see that people with job title such as ``emp_title``=**[manager, teacher]** are the most common to take a loan."
   ]
  },
  {
   "cell_type": "markdown",
   "id": "0f2e99ea",
   "metadata": {},
   "source": [
    "We will continue to explore ``title`` column attributes."
   ]
  },
  {
   "cell_type": "code",
   "execution_count": 1048,
   "id": "b1812dee",
   "metadata": {},
   "outputs": [
    {
     "data": {
      "text/plain": [
       "1755"
      ]
     },
     "execution_count": 1048,
     "metadata": {},
     "output_type": "execute_result"
    }
   ],
   "source": [
    "data.title.isna().sum()"
   ]
  },
  {
   "cell_type": "code",
   "execution_count": 1049,
   "id": "4dd6ff6c",
   "metadata": {},
   "outputs": [],
   "source": [
    "data['title'] = data.title.str.lower()"
   ]
  },
  {
   "cell_type": "code",
   "execution_count": 1050,
   "id": "ffa347df",
   "metadata": {},
   "outputs": [
    {
     "data": {
      "text/plain": [
       "debt consolidation           168108\n",
       "credit card refinancing       51781\n",
       "home improvement              17117\n",
       "other                         12993\n",
       "consolidation                  5583\n",
       "major purchase                 4998\n",
       "debt consolidation loan        3513\n",
       "business                       3017\n",
       "medical expenses               2820\n",
       "credit card consolidation      2638\n",
       "personal loan                  2460\n",
       "car financing                  2160\n",
       "credit card payoff             1904\n",
       "consolidation loan             1887\n",
       "vacation                       1866\n",
       "credit card refinance          1832\n",
       "moving and relocation          1693\n",
       "consolidate                    1528\n",
       "personal                       1465\n",
       "home buying                    1196\n",
       "loan                           1150\n",
       "payoff                         1035\n",
       "credit cards                   1030\n",
       "freedom                         934\n",
       "debt                            933\n",
       "my loan                         897\n",
       "credit card loan                879\n",
       "credit card                     848\n",
       "debt consolidation              840\n",
       "debt free                       748\n",
       "Name: title, dtype: int64"
      ]
     },
     "execution_count": 1050,
     "metadata": {},
     "output_type": "execute_result"
    }
   ],
   "source": [
    "data.title.value_counts()[:30]"
   ]
  },
  {
   "cell_type": "markdown",
   "id": "d19a79e0",
   "metadata": {},
   "source": [
    "* We can remove ``title`` column because we have the same data on ``purpose`` column that can be generated from it (will be handled later as part of the **data pre-processing** stage).\n"
   ]
  },
  {
   "cell_type": "markdown",
   "id": "d8a5dc5d",
   "metadata": {},
   "source": [
    "We will continue to explore ``dti``, ``open_acc``, ``revol_bal``, ``revol_util`` and ``total_acc`` columns attributes."
   ]
  },
  {
   "cell_type": "code",
   "execution_count": 1051,
   "id": "46ddab24",
   "metadata": {},
   "outputs": [
    {
     "data": {
      "text/plain": [
       "0.00     313\n",
       "14.40    310\n",
       "19.20    302\n",
       "16.80    301\n",
       "18.00    300\n",
       "        ... \n",
       "59.18      1\n",
       "48.37      1\n",
       "45.71      1\n",
       "42.38      1\n",
       "55.53      1\n",
       "Name: dti, Length: 4262, dtype: int64"
      ]
     },
     "execution_count": 1051,
     "metadata": {},
     "output_type": "execute_result"
    }
   ],
   "source": [
    "data.dti.value_counts()"
   ]
  },
  {
   "cell_type": "code",
   "execution_count": 1052,
   "id": "e6c95f86",
   "metadata": {},
   "outputs": [
    {
     "data": {
      "text/plain": [
       "(217, 29)"
      ]
     },
     "execution_count": 1052,
     "metadata": {},
     "output_type": "execute_result"
    }
   ],
   "source": [
    "data[data.open_acc > 40].shape"
   ]
  },
  {
   "cell_type": "code",
   "execution_count": 1053,
   "id": "96af721f",
   "metadata": {},
   "outputs": [
    {
     "data": {
      "text/plain": [
       "(266, 29)"
      ]
     },
     "execution_count": 1053,
     "metadata": {},
     "output_type": "execute_result"
    }
   ],
   "source": [
    "data[data.total_acc > 80].shape"
   ]
  },
  {
   "cell_type": "code",
   "execution_count": 1054,
   "id": "389f8739",
   "metadata": {},
   "outputs": [
    {
     "data": {
      "text/plain": [
       "(177624, 29)"
      ]
     },
     "execution_count": 1054,
     "metadata": {},
     "output_type": "execute_result"
    }
   ],
   "source": [
    "data[data.revol_bal < 10000].shape"
   ]
  },
  {
   "cell_type": "code",
   "execution_count": 1055,
   "id": "09934790",
   "metadata": {},
   "outputs": [
    {
     "name": "stdout",
     "output_type": "stream",
     "text": [
      "0        41.80\n",
      "1        53.30\n",
      "2        92.20\n",
      "3        21.50\n",
      "4        69.80\n",
      "          ... \n",
      "396025   34.30\n",
      "396026   95.70\n",
      "396027   66.90\n",
      "396028   53.80\n",
      "396029   91.30\n",
      "Name: revol_util, Length: 396030, dtype: float64\n"
     ]
    }
   ],
   "source": [
    "data[data.revol_util > 200]\n",
    "print(data[\"revol_util\"])"
   ]
  },
  {
   "cell_type": "code",
   "execution_count": 1056,
   "id": "8a582a27",
   "metadata": {},
   "outputs": [
    {
     "data": {
      "text/plain": [
       "Text(0.5, 0, 'total_acc')"
      ]
     },
     "execution_count": 1056,
     "metadata": {},
     "output_type": "execute_result"
    },
    {
     "data": {
      "image/png": "[encoded data removed]",
      "text/plain": [
       "<Figure size 1080x2160 with 5 Axes>"
      ]
     },
     "metadata": {
      "needs_background": "light"
     },
     "output_type": "display_data"
    }
   ],
   "source": [
    "plt.figure(figsize=(15, 30))\n",
    "\n",
    "plt.subplot(6, 2, 1)\n",
    "data[data[\"loan_status\"] == \"Fully Paid\"][\"dti\"].value_counts().hist(bins=35, color='blue', \n",
    "                                                                     label='loan_status = Fully Paid', alpha=0.6)\n",
    "data[data[\"loan_status\"] == \"Charged Off\"][\"dti\"].value_counts().hist(bins=35, color='red', \n",
    "                                                                      label='loan_status = Charged Off', alpha=0.6)\n",
    "plt.legend()\n",
    "plt.xlabel(\"dti\")\n",
    "\n",
    "plt.subplot(6, 2, 2)\n",
    "data[data[\"loan_status\"] == \"Fully Paid\"][\"open_acc\"].hist(bins=35, color='blue', label='loan_status = Fully Paid', alpha=0.6)\n",
    "data[data[\"loan_status\"] == \"Charged Off\"][\"open_acc\"].hist(bins=35, color='red', label='loan_status = Charged Off', alpha=0.6)\n",
    "plt.legend()\n",
    "plt.xlabel(\"open_acc\")\n",
    "\n",
    "plt.subplot(6, 2, 3)\n",
    "df = data[(data.revol_bal <= 10000)]\n",
    "df[df[\"loan_status\"] == \"Fully Paid\"][\"revol_bal\"].hist(bins=35, color='blue', label='loan_status = Fully Paid', alpha=0.6)\n",
    "df[df[\"loan_status\"] == \"Charged Off\"][\"revol_bal\"].hist(bins=35, color='red', label='loan_status = Charged Off', alpha=0.6)\n",
    "plt.legend()\n",
    "plt.xlabel(\"revol_bal\")\n",
    "\n",
    "plt.subplot(6, 2, 4)\n",
    "data[data[\"loan_status\"] == \"Fully Paid\"][\"revol_util\"].hist(bins=35, color='blue', label='loan_status = Fully Paid', alpha=0.6)\n",
    "data[data[\"loan_status\"] == \"Charged Off\"][\"revol_util\"].hist(bins=35, color='red', label='loan_status = Charged Off', alpha=0.6)\n",
    "plt.legend()\n",
    "plt.xlabel(\"revol_util\")\n",
    "\n",
    "plt.subplot(6, 2, 5)\n",
    "df = data[(data.revol_bal <= 10000)]\n",
    "df[df[\"loan_status\"] == \"Fully Paid\"][\"total_acc\"].hist(bins=35, color='blue', label='loan_status = Fully Paid', alpha=0.6)\n",
    "df[df[\"loan_status\"] == \"Charged Off\"][\"total_acc\"].hist(bins=35, color='red', label='loan_status = Charged Off', alpha=0.6)\n",
    "plt.legend()\n",
    "plt.xlabel(\"total_acc\")"
   ]
  },
  {
   "cell_type": "markdown",
   "id": "4c918bba",
   "metadata": {},
   "source": [
    "* It seems that the smaller the ``dti`` the more likely that the loan will be paid with penalties.\n",
    "* We can see that as ``revol_balance`` is increasing there is more chance to be charged off. (We not fully understand the meaning of ``revol_balance`` but we can defenetly see the impact of this variable)\n",
    "* Only 217 borrower have more than 40 open credit lines.\n",
    "* Only 266 borrower have more than 80 credit line in the borrower credit file.\n"
   ]
  },
  {
   "cell_type": "markdown",
   "id": "17c311df",
   "metadata": {},
   "source": [
    "We will continue to explore ``pub_rec``, ``initial_list_status``, ``application_type``, ``mort_acc`` and ``pub_rec_bankruptcies`` columns attributes."
   ]
  },
  {
   "cell_type": "code",
   "execution_count": 1057,
   "id": "47917900",
   "metadata": {},
   "outputs": [
    {
     "data": {
      "text/plain": [
       "0     338272\n",
       "1      49739\n",
       "2       5476\n",
       "3       1521\n",
       "4        527\n",
       "5        237\n",
       "6        122\n",
       "7         56\n",
       "8         34\n",
       "9         12\n",
       "10        11\n",
       "11         8\n",
       "13         4\n",
       "12         4\n",
       "19         2\n",
       "40         1\n",
       "17         1\n",
       "86         1\n",
       "24         1\n",
       "15         1\n",
       "Name: pub_rec, dtype: int64"
      ]
     },
     "execution_count": 1057,
     "metadata": {},
     "output_type": "execute_result"
    }
   ],
   "source": [
    "data.pub_rec.value_counts()"
   ]
  },
  {
   "cell_type": "code",
   "execution_count": 1058,
   "id": "9f62c859",
   "metadata": {},
   "outputs": [
    {
     "data": {
      "text/plain": [
       "f    238066\n",
       "w    157964\n",
       "Name: initial_list_status, dtype: int64"
      ]
     },
     "execution_count": 1058,
     "metadata": {},
     "output_type": "execute_result"
    }
   ],
   "source": [
    "data.initial_list_status.value_counts()"
   ]
  },
  {
   "cell_type": "code",
   "execution_count": 1059,
   "id": "9db52c05",
   "metadata": {},
   "outputs": [
    {
     "data": {
      "text/plain": [
       "INDIVIDUAL    395319\n",
       "JOINT            425\n",
       "DIRECT_PAY       286\n",
       "Name: application_type, dtype: int64"
      ]
     },
     "execution_count": 1059,
     "metadata": {},
     "output_type": "execute_result"
    }
   ],
   "source": [
    "data.application_type.value_counts()\n"
   ]
  },
  {
   "cell_type": "code",
   "execution_count": 1060,
   "id": "34989aba",
   "metadata": {},
   "outputs": [
    {
     "data": {
      "text/plain": [
       "0.00     139777\n",
       "1.00      60416\n",
       "2.00      49948\n",
       "3.00      38049\n",
       "4.00      27887\n",
       "5.00      18194\n",
       "6.00      11069\n",
       "7.00       6052\n",
       "8.00       3121\n",
       "9.00       1656\n",
       "10.00       865\n",
       "11.00       479\n",
       "12.00       264\n",
       "13.00       146\n",
       "14.00       107\n",
       "15.00        61\n",
       "16.00        37\n",
       "17.00        22\n",
       "18.00        18\n",
       "19.00        15\n",
       "20.00        13\n",
       "24.00        10\n",
       "22.00         7\n",
       "21.00         4\n",
       "25.00         4\n",
       "27.00         3\n",
       "32.00         2\n",
       "31.00         2\n",
       "23.00         2\n",
       "26.00         2\n",
       "28.00         1\n",
       "30.00         1\n",
       "34.00         1\n",
       "Name: mort_acc, dtype: int64"
      ]
     },
     "execution_count": 1060,
     "metadata": {},
     "output_type": "execute_result"
    }
   ],
   "source": [
    "data.mort_acc.value_counts()"
   ]
  },
  {
   "cell_type": "code",
   "execution_count": 1061,
   "id": "55859c2a",
   "metadata": {},
   "outputs": [
    {
     "data": {
      "text/plain": [
       "0.00    350380\n",
       "1.00     42790\n",
       "2.00      1847\n",
       "3.00       351\n",
       "4.00        82\n",
       "5.00        32\n",
       "6.00         7\n",
       "7.00         4\n",
       "8.00         2\n",
       "Name: pub_rec_bankruptcies, dtype: int64"
      ]
     },
     "execution_count": 1061,
     "metadata": {},
     "output_type": "execute_result"
    }
   ],
   "source": [
    "data.pub_rec_bankruptcies.value_counts()"
   ]
  },
  {
   "cell_type": "markdown",
   "id": "7e66dcf3",
   "metadata": {},
   "source": [
    "**-** ``pub_rec_bankruptcies`` is number of public record bankruptcies.<br>\n",
    "**-** ``mort_acc`` is the number of mortgage accounts.<br>\n",
    "**-** ``pub_rec`` is the number of derogatory public records.<br>\n",
    "\n",
    "The data on those variables can move between **0** until **∞** (in theory).<br>\n",
    "For us, it does not really matter if ``pub_rec_bankruptcies``/``mort_acc``/``pub_rec`` has the value of 1,2,3,....,∞.<br>\n",
    "The only thing that matter on those variables is the value **0** or **<=1**.<br>\n",
    "Therefore, we will convert the data like that:\n",
    "* value >= 1 **==> 1** \n",
    "* value = 0  **==> 0**\n",
    "\n",
    "Let's execute it:"
   ]
  },
  {
   "cell_type": "code",
   "execution_count": 1062,
   "id": "54f00837",
   "metadata": {},
   "outputs": [],
   "source": [
    "def pub_rec(number):\n",
    "    if number == 0.0:\n",
    "        return 0\n",
    "    else:\n",
    "        return 1\n",
    "    \n",
    "def mort_acc(number):\n",
    "    if number == 0.0:\n",
    "        return 0\n",
    "    elif number >= 1.0:\n",
    "        return 1\n",
    "    else:\n",
    "        return number\n",
    "    \n",
    "def pub_rec_bankruptcies(number):\n",
    "    if number == 0.0:\n",
    "        return 0\n",
    "    elif number >= 1.0:\n",
    "        return 1\n",
    "    else:\n",
    "        return number"
   ]
  },
  {
   "cell_type": "code",
   "execution_count": 1063,
   "id": "b7fcda3f",
   "metadata": {},
   "outputs": [],
   "source": [
    "data['pub_rec'] = data.pub_rec.apply(pub_rec)\n",
    "data['mort_acc'] = data.mort_acc.apply(mort_acc)\n",
    "data['pub_rec_bankruptcies'] = data.pub_rec_bankruptcies.apply(pub_rec_bankruptcies)"
   ]
  },
  {
   "cell_type": "code",
   "execution_count": 1064,
   "id": "d6abfe0c",
   "metadata": {},
   "outputs": [
    {
     "data": {
      "text/plain": [
       "<AxesSubplot:xlabel='pub_rec_bankruptcies', ylabel='count'>"
      ]
     },
     "execution_count": 1064,
     "metadata": {},
     "output_type": "execute_result"
    },
    {
     "data": {
      "image/png": "[encoded data removed]",
      "text/plain": [
       "<Figure size 864x2160 with 5 Axes>"
      ]
     },
     "metadata": {
      "needs_background": "light"
     },
     "output_type": "display_data"
    }
   ],
   "source": [
    "plt.figure(figsize=(12, 30))\n",
    "\n",
    "plt.subplot(6, 2, 1)\n",
    "sns.countplot(x='pub_rec', data=data, hue='loan_status')\n",
    "\n",
    "plt.subplot(6, 2, 2)\n",
    "sns.countplot(x='initial_list_status', data=data, hue='loan_status')\n",
    "\n",
    "plt.subplot(6, 2, 3)\n",
    "sns.countplot(x='application_type', data=data, hue='loan_status')\n",
    "\n",
    "plt.subplot(6, 2, 4)\n",
    "sns.countplot(x='mort_acc', data=data, hue='loan_status')\n",
    "\n",
    "plt.subplot(6, 2, 5)\n",
    "sns.countplot(x='pub_rec_bankruptcies', data=data, hue='loan_status')"
   ]
  },
  {
   "cell_type": "markdown",
   "id": "8f8a8ec7",
   "metadata": {},
   "source": [
    "* We can see that people with ``mort_acc``>=**1** are most likely to get a loan and to succeed to return the money without penalties.\n",
    "* We can see that people with ``pub_rec_bankruptcies`` & ``pub_rec`` >=**1** are not going to ask for a loan compare to those who have ``pub_rec_bankruptcies`` & ``pub_rec`` = **0**\n",
    "* We can see that the number of people that have ``initial_list_status`` = **'f'** is greater almost with x2 compare the number of people that have ``initial_list_status`` = **'w'**"
   ]
  },
  {
   "cell_type": "markdown",
   "id": "612ee3b4",
   "metadata": {},
   "source": [
    "We will continue to explore ``political_opinion`` and ``state`` columns attributes.\n",
    "\n",
    "Let's see if there demographic/political ideas connection to loans."
   ]
  },
  {
   "cell_type": "code",
   "execution_count": 1065,
   "id": "e8df7fc7",
   "metadata": {
    "scrolled": false
   },
   "outputs": [
    {
     "data": {
      "text/plain": [
       "<AxesSubplot:xlabel='state', ylabel='count'>"
      ]
     },
     "execution_count": 1065,
     "metadata": {},
     "output_type": "execute_result"
    },
    {
     "data": {
      "image/png": "[encoded data removed]",
      "text/plain": [
       "<Figure size 1152x360 with 1 Axes>"
      ]
     },
     "metadata": {
      "needs_background": "light"
     },
     "output_type": "display_data"
    }
   ],
   "source": [
    "plt.figure(figsize=(16, 5))\n",
    "sns.countplot(x='state', data=data, hue='loan_status')"
   ]
  },
  {
   "cell_type": "markdown",
   "id": "934ff59f",
   "metadata": {},
   "source": [
    "* We can see that the data scattering is close to be the same at every state.\n",
    "* We can see almost the same count of \"Fully Paid\" against \"Charged Off\" loans per state."
   ]
  },
  {
   "cell_type": "code",
   "execution_count": 1066,
   "id": "f9e8d0f6",
   "metadata": {},
   "outputs": [
    {
     "data": {
      "text/plain": [
       "<AxesSubplot:xlabel='political_opinion', ylabel='count'>"
      ]
     },
     "execution_count": 1066,
     "metadata": {},
     "output_type": "execute_result"
    },
    {
     "data": {
      "image/png": "[encoded data removed]",
      "text/plain": [
       "<Figure size 360x360 with 1 Axes>"
      ]
     },
     "metadata": {
      "needs_background": "light"
     },
     "output_type": "display_data"
    }
   ],
   "source": [
    "plt.figure(figsize=(5, 5))\n",
    "sns.countplot(x='political_opinion', data=data, hue='loan_status')"
   ]
  },
  {
   "cell_type": "markdown",
   "id": "7c813de6",
   "metadata": {},
   "source": [
    "* We can see that \"Republican\" are more intent to ask for a loan than others (50% more than Democrats).  \n",
    "* In addition, we can conclude that maybe Democrats are more \"stable\" and therefore they don't need much loans as \"Repulicans\"."
   ]
  },
  {
   "cell_type": "markdown",
   "id": "5ddb8841",
   "metadata": {},
   "source": [
    "Last thing, we want to check the correltion between ``loan_status`` and the other numeric columns.\n",
    "* ``loan_status`` is a categorial variable\n",
    "* we need to convert ``loan_status`` to be numeric variable"
   ]
  },
  {
   "cell_type": "code",
   "execution_count": 1067,
   "id": "e84a395c",
   "metadata": {},
   "outputs": [],
   "source": [
    "data['loan_status'] = data.loan_status.map({'Fully Paid':0, 'Charged Off':1})"
   ]
  },
  {
   "cell_type": "code",
   "execution_count": 1068,
   "id": "bd71460b",
   "metadata": {},
   "outputs": [
    {
     "data": {
      "text/plain": [
       "<AxesSubplot:>"
      ]
     },
     "execution_count": 1068,
     "metadata": {},
     "output_type": "execute_result"
    },
    {
     "data": {
      "image/png": "[encoded data removed]",
      "text/plain": [
       "<Figure size 432x216 with 1 Axes>"
      ]
     },
     "metadata": {
      "needs_background": "light"
     },
     "output_type": "display_data"
    }
   ],
   "source": [
    "plt.figure(figsize=(6, 3))\n",
    "data.corr()['loan_status'].drop('loan_status').sort_values().plot(kind='barh')\n"
   ]
  },
  {
   "cell_type": "markdown",
   "id": "5c243431",
   "metadata": {},
   "source": [
    "We can see that ``int_rate`` is the most correlation variable with ``loan_status``"
   ]
  },
  {
   "cell_type": "markdown",
   "id": "8b566831",
   "metadata": {},
   "source": [
    "### Mini high-level conclusion:\n",
    "\n",
    "We saw that, there are 2 main types of variables:\n",
    "\n",
    "* Variables related to the applicant (demographic variables such as occupation, employment details etc.),\n",
    "* Variables related to loan characteristics (amount of loan, interest rate, purpose of loan etc.)"
   ]
  },
  {
   "cell_type": "markdown",
   "id": "2ac85f7e",
   "metadata": {},
   "source": [
    "## Data Pre-Processing"
   ]
  },
  {
   "cell_type": "markdown",
   "id": "7eefcfd0",
   "metadata": {},
   "source": [
    "### Our goals:\n",
    "\n",
    "* Remove or fill any missing data.\n",
    "* Remove unnecessary or repetitive features.\n",
    "* Convert categorical string features to dummy variables.\n"
   ]
  },
  {
   "cell_type": "code",
   "execution_count": 1069,
   "id": "648f13f9",
   "metadata": {},
   "outputs": [
    {
     "name": "stdout",
     "output_type": "stream",
     "text": [
      "The Length of the data: (396030, 29)\n"
     ]
    }
   ],
   "source": [
    "print(f\"The Length of the data: {data.shape}\")\n"
   ]
  },
  {
   "cell_type": "markdown",
   "id": "660d5a4a",
   "metadata": {},
   "source": [
    "Let's check which columns have missing values and what is the percenege from the entire column for each one:"
   ]
  },
  {
   "cell_type": "code",
   "execution_count": 1070,
   "id": "905f615f",
   "metadata": {},
   "outputs": [
    {
     "name": "stdout",
     "output_type": "stream",
     "text": [
      "'emp_title': number of missing values '22927' ==> '5.789%'\n",
      "'emp_length': number of missing values '18301' ==> '4.621%'\n",
      "'title': number of missing values '1755' ==> '0.443%'\n",
      "'revol_util': number of missing values '276' ==> '0.070%'\n",
      "'mort_acc': number of missing values '37795' ==> '9.543%'\n",
      "'pub_rec_bankruptcies': number of missing values '535' ==> '0.135%'\n",
      "'political_opinion': number of missing values '49226' ==> '12.430%'\n",
      "'state': number of missing values '49226' ==> '12.430%'\n"
     ]
    }
   ],
   "source": [
    "for column in data.columns:\n",
    "    if data[column].isna().sum() != 0:\n",
    "        missing = data[column].isna().sum()\n",
    "        portion = (missing / data.shape[0]) * 100\n",
    "        print(f\"'{column}': number of missing values '{missing}' ==> '{portion:.3f}%'\")"
   ]
  },
  {
   "cell_type": "markdown",
   "id": "db619647",
   "metadata": {},
   "source": [
    "Let's observe at ``emp_title`` variable:"
   ]
  },
  {
   "cell_type": "code",
   "execution_count": 1071,
   "id": "35c2c6ed",
   "metadata": {},
   "outputs": [
    {
     "data": {
      "text/plain": [
       "154011"
      ]
     },
     "execution_count": 1071,
     "metadata": {},
     "output_type": "execute_result"
    }
   ],
   "source": [
    "data.emp_title.nunique()"
   ]
  },
  {
   "cell_type": "markdown",
   "id": "1bb68514",
   "metadata": {},
   "source": [
    "Realistically there are too many unique job titles to try to convert this to a dummy variable feature. Let's remove that emp_title column."
   ]
  },
  {
   "cell_type": "code",
   "execution_count": 1072,
   "id": "88422f40",
   "metadata": {},
   "outputs": [],
   "source": [
    "data.drop('emp_title', axis=1, inplace=True)"
   ]
  },
  {
   "cell_type": "markdown",
   "id": "c5db640f",
   "metadata": {},
   "source": [
    "Let's observe at ``emp_length`` variable:"
   ]
  },
  {
   "cell_type": "code",
   "execution_count": 1073,
   "id": "792eb737",
   "metadata": {},
   "outputs": [
    {
     "data": {
      "text/plain": [
       "array(['10+ years', '4 years', '< 1 year', '6 years', '9 years',\n",
       "       '2 years', '3 years', '8 years', '7 years', '5 years', '1 year',\n",
       "       nan], dtype=object)"
      ]
     },
     "execution_count": 1073,
     "metadata": {},
     "output_type": "execute_result"
    }
   ],
   "source": [
    "data.emp_length.unique()"
   ]
  },
  {
   "cell_type": "code",
   "execution_count": 1074,
   "id": "68355ecf",
   "metadata": {},
   "outputs": [
    {
     "name": "stdout",
     "output_type": "stream",
     "text": [
      "10+ years years in this position:\n",
      "0   0.82\n",
      "1   0.18\n",
      "Name: loan_status, dtype: float64\n",
      "==========================================\n",
      "4 years years in this position:\n",
      "0   0.81\n",
      "1   0.19\n",
      "Name: loan_status, dtype: float64\n",
      "==========================================\n",
      "< 1 year years in this position:\n",
      "0   0.79\n",
      "1   0.21\n",
      "Name: loan_status, dtype: float64\n",
      "==========================================\n",
      "6 years years in this position:\n",
      "0   0.81\n",
      "1   0.19\n",
      "Name: loan_status, dtype: float64\n",
      "==========================================\n",
      "9 years years in this position:\n",
      "0   0.80\n",
      "1   0.20\n",
      "Name: loan_status, dtype: float64\n",
      "==========================================\n",
      "2 years years in this position:\n",
      "0   0.81\n",
      "1   0.19\n",
      "Name: loan_status, dtype: float64\n",
      "==========================================\n",
      "3 years years in this position:\n",
      "0   0.80\n",
      "1   0.20\n",
      "Name: loan_status, dtype: float64\n",
      "==========================================\n",
      "8 years years in this position:\n",
      "0   0.80\n",
      "1   0.20\n",
      "Name: loan_status, dtype: float64\n",
      "==========================================\n",
      "7 years years in this position:\n",
      "0   0.81\n",
      "1   0.19\n",
      "Name: loan_status, dtype: float64\n",
      "==========================================\n",
      "5 years years in this position:\n",
      "0   0.81\n",
      "1   0.19\n",
      "Name: loan_status, dtype: float64\n",
      "==========================================\n",
      "1 year years in this position:\n",
      "0   0.80\n",
      "1   0.20\n",
      "Name: loan_status, dtype: float64\n",
      "==========================================\n",
      "nan years in this position:\n",
      "Series([], Name: loan_status, dtype: float64)\n",
      "==========================================\n"
     ]
    }
   ],
   "source": [
    "for year in data.emp_length.unique():\n",
    "    print(f\"{year} years in this position:\")\n",
    "    print(f\"{data[data.emp_length == year].loan_status.value_counts(normalize=True)}\")\n",
    "    print('==========================================')"
   ]
  },
  {
   "cell_type": "markdown",
   "id": "c56dfb60",
   "metadata": {},
   "source": [
    "Charge off/Fully paid rates are very similar across all employment lengths.<br>\n",
    "Therefore, we are going to drop the ``emp_length`` column:"
   ]
  },
  {
   "cell_type": "code",
   "execution_count": 1075,
   "id": "a0b03282",
   "metadata": {},
   "outputs": [],
   "source": [
    "data.drop('emp_length', axis=1, inplace=True)"
   ]
  },
  {
   "cell_type": "markdown",
   "id": "8dbd1fa0",
   "metadata": {},
   "source": [
    "Let's observe at ``title`` variable:"
   ]
  },
  {
   "cell_type": "code",
   "execution_count": 1076,
   "id": "33a51b86",
   "metadata": {},
   "outputs": [
    {
     "data": {
      "text/plain": [
       "debt consolidation         168108\n",
       "credit card refinancing     51781\n",
       "home improvement            17117\n",
       "other                       12993\n",
       "consolidation                5583\n",
       "Name: title, dtype: int64"
      ]
     },
     "execution_count": 1076,
     "metadata": {},
     "output_type": "execute_result"
    }
   ],
   "source": [
    "data.title.value_counts().head()"
   ]
  },
  {
   "cell_type": "code",
   "execution_count": 1077,
   "id": "bbfaa1ff",
   "metadata": {},
   "outputs": [
    {
     "data": {
      "text/plain": [
       "debt_consolidation    234507\n",
       "credit_card            83019\n",
       "home_improvement       24030\n",
       "other                  21185\n",
       "major_purchase          8790\n",
       "Name: purpose, dtype: int64"
      ]
     },
     "execution_count": 1077,
     "metadata": {},
     "output_type": "execute_result"
    }
   ],
   "source": [
    "data.purpose.value_counts().head()"
   ]
  },
  {
   "cell_type": "markdown",
   "id": "79727a36",
   "metadata": {},
   "source": [
    "The ``title`` column is simply a string subcategory/description of the purpose column.<br>\n",
    "This is a duplicate data so we will drop the ``title`` column."
   ]
  },
  {
   "cell_type": "code",
   "execution_count": 1078,
   "id": "895e8474",
   "metadata": {},
   "outputs": [],
   "source": [
    "data.drop('title', axis=1, inplace=True)"
   ]
  },
  {
   "cell_type": "markdown",
   "id": "ba5c8b36",
   "metadata": {},
   "source": [
    "Let's observe at ``mort_acc`` variable:"
   ]
  },
  {
   "cell_type": "code",
   "execution_count": 1079,
   "id": "7f3d8dfd",
   "metadata": {},
   "outputs": [
    {
     "data": {
      "text/plain": [
       "1.00    218458\n",
       "0.00    139777\n",
       "Name: mort_acc, dtype: int64"
      ]
     },
     "execution_count": 1079,
     "metadata": {},
     "output_type": "execute_result"
    }
   ],
   "source": [
    "data.mort_acc.value_counts()"
   ]
  },
  {
   "cell_type": "code",
   "execution_count": 1080,
   "id": "a02be662",
   "metadata": {},
   "outputs": [
    {
     "data": {
      "text/plain": [
       "37795"
      ]
     },
     "execution_count": 1080,
     "metadata": {},
     "output_type": "execute_result"
    }
   ],
   "source": [
    "data.mort_acc.isna().sum()"
   ]
  },
  {
   "cell_type": "markdown",
   "id": "597ae36b",
   "metadata": {},
   "source": [
    "``mort_acc`` is an important variable for us.<br>\n",
    "Therefore, we don't want to just drop the rows that contain the NaN values.<br>\n",
    "In addition, we want to fill in those NaN values with an accurate value as much as we can.\n",
    "\n",
    "So, to increase accuracy we are going to rearrage the dataframe and group it by ``total_acc`` (basically, we can group it by with other variables but to have the most accurate result we should take the variable with the most low NaN values)<br>\n",
    "Then, we will create a function that will detected those NaN values and will replace them with the mean value of ``mort_acc`` at the specific group. (like a map)<br>\n",
    "\n",
    "Let's execute it now:"
   ]
  },
  {
   "cell_type": "code",
   "execution_count": 1081,
   "id": "f83dd454",
   "metadata": {},
   "outputs": [],
   "source": [
    "total_acc_avg = data.groupby(by='total_acc').mean().mort_acc"
   ]
  },
  {
   "cell_type": "code",
   "execution_count": 1082,
   "id": "5d3d2251",
   "metadata": {},
   "outputs": [],
   "source": [
    "def fill_mort_acc(total_acc, mort_acc):\n",
    "    if np.isnan(mort_acc):\n",
    "        return total_acc_avg[total_acc].round()\n",
    "    else:\n",
    "        return mort_acc"
   ]
  },
  {
   "cell_type": "code",
   "execution_count": 1083,
   "id": "64ce31aa",
   "metadata": {},
   "outputs": [],
   "source": [
    "data['mort_acc'] = data.apply(lambda x: fill_mort_acc(x['total_acc'], x['mort_acc']), axis=1)"
   ]
  },
  {
   "cell_type": "markdown",
   "id": "9ddf6473",
   "metadata": {},
   "source": [
    "Let's observe at ``revol_util``, ``pub_rec_bankruptcies``, ``political_opinion`` and ``state`` variables: "
   ]
  },
  {
   "cell_type": "code",
   "execution_count": 1084,
   "id": "be4da08c",
   "metadata": {},
   "outputs": [
    {
     "name": "stdout",
     "output_type": "stream",
     "text": [
      "'revol_util': number of missing values '276' ==> '0.070%'\n",
      "'pub_rec_bankruptcies': number of missing values '535' ==> '0.135%'\n",
      "'political_opinion': number of missing values '49226' ==> '12.430%'\n",
      "'state': number of missing values '49226' ==> '12.430%'\n"
     ]
    }
   ],
   "source": [
    "for column in data.columns:\n",
    "    if data[column].isna().sum() != 0:\n",
    "        missing = data[column].isna().sum()\n",
    "        portion = (missing / data.shape[0]) * 100\n",
    "        print(f\"'{column}': number of missing values '{missing}' ==> '{portion:.3f}%'\")"
   ]
  },
  {
   "cell_type": "markdown",
   "id": "b60fa691",
   "metadata": {},
   "source": [
    "* ``revol_util`` and ``pub_rec_bankruptcies`` have missing data, but they account for less than 0.5% of the total data. Therefore, we will remove the rows that are missing those values in those columns.\n",
    "<br>\n",
    "* ``state`` variable contains 4 military states that appears in the dataset.<br>\n",
    "Military states are not part of the political opinion division.<br>\n",
    "Therefore, every military state got the **\"NaN\"** value. <br>\n",
    "In addition, if the military state got **\"NaN\"** so the ``political_opinion`` variable get **\"NaN\"** too.<br>\n",
    "Let's see it now:"
   ]
  },
  {
   "cell_type": "code",
   "execution_count": 1085,
   "id": "7ea90872",
   "metadata": {},
   "outputs": [
    {
     "data": {
      "text/plain": [
       "49226"
      ]
     },
     "execution_count": 1085,
     "metadata": {},
     "output_type": "execute_result"
    }
   ],
   "source": [
    "data.political_opinion.isna().sum()"
   ]
  },
  {
   "cell_type": "code",
   "execution_count": 1086,
   "id": "f14c6a7d",
   "metadata": {},
   "outputs": [
    {
     "data": {
      "text/plain": [
       "49226"
      ]
     },
     "execution_count": 1086,
     "metadata": {},
     "output_type": "execute_result"
    }
   ],
   "source": [
    "data.state.isna().sum()"
   ]
  },
  {
   "cell_type": "markdown",
   "id": "da253c71",
   "metadata": {},
   "source": [
    "This data is not useful for our model and we can't fix it by mean value or the most common value, therefore we will drop ``political_opinion`` and ``state`` columns.<br>\n",
    "In the end, we will drop ``revol_util``, ``pub_rec_bankruptcies``, ``political_opinion`` and ``state`` columns:"
   ]
  },
  {
   "cell_type": "code",
   "execution_count": 1087,
   "id": "0524374b",
   "metadata": {},
   "outputs": [],
   "source": [
    "data.dropna(inplace=True)"
   ]
  },
  {
   "cell_type": "code",
   "execution_count": 1088,
   "id": "5f80013d",
   "metadata": {},
   "outputs": [
    {
     "data": {
      "text/plain": [
       "(346107, 26)"
      ]
     },
     "execution_count": 1088,
     "metadata": {},
     "output_type": "execute_result"
    }
   ],
   "source": [
    "data.shape"
   ]
  },
  {
   "cell_type": "markdown",
   "id": "227bf284",
   "metadata": {},
   "source": [
    "### Categorical Variables and Dummy Variables"
   ]
  },
  {
   "cell_type": "markdown",
   "id": "4353260f",
   "metadata": {},
   "source": [
    "Let's check if we have categorial variables:"
   ]
  },
  {
   "cell_type": "code",
   "execution_count": 1089,
   "id": "3a37152f",
   "metadata": {},
   "outputs": [
    {
     "name": "stdout",
     "output_type": "stream",
     "text": [
      "['term', 'grade', 'sub_grade', 'home_ownership', 'verification_status', 'issue_d', 'purpose', 'earliest_cr_line', 'initial_list_status', 'application_type', 'address', 'political_opinion', 'state']\n"
     ]
    }
   ],
   "source": [
    "print([column for column in data.columns if data[column].dtype == object])"
   ]
  },
  {
   "cell_type": "markdown",
   "id": "64ba52d2",
   "metadata": {},
   "source": [
    "Let's observe at ``term`` variables: "
   ]
  },
  {
   "cell_type": "code",
   "execution_count": 1090,
   "id": "ce4f755b",
   "metadata": {},
   "outputs": [
    {
     "data": {
      "text/plain": [
       "array([' 36 months', ' 60 months'], dtype=object)"
      ]
     },
     "execution_count": 1090,
     "metadata": {},
     "output_type": "execute_result"
    }
   ],
   "source": [
    "data.term.unique()"
   ]
  },
  {
   "cell_type": "markdown",
   "id": "63e46e18",
   "metadata": {},
   "source": [
    "We want to have the ability to work with ``term`` data so it will be more efficient to convert ``term`` from catergorial variable (string) to numeric variable (int):"
   ]
  },
  {
   "cell_type": "code",
   "execution_count": 1091,
   "id": "634bf18c",
   "metadata": {},
   "outputs": [],
   "source": [
    "term_values = {' 36 months': 36, ' 60 months': 60}\n",
    "data['term'] = data.term.map(term_values)"
   ]
  },
  {
   "cell_type": "code",
   "execution_count": 1092,
   "id": "81985781",
   "metadata": {},
   "outputs": [
    {
     "data": {
      "text/plain": [
       "array([36, 60], dtype=int64)"
      ]
     },
     "execution_count": 1092,
     "metadata": {},
     "output_type": "execute_result"
    }
   ],
   "source": [
    "data.term.unique()"
   ]
  },
  {
   "cell_type": "markdown",
   "id": "18c10c5c",
   "metadata": {},
   "source": [
    "Let's observe at ``political_opinion`` variables: "
   ]
  },
  {
   "cell_type": "code",
   "execution_count": 1093,
   "id": "d88e6e0e",
   "metadata": {},
   "outputs": [
    {
     "data": {
      "text/plain": [
       "array(['Republican', 'Divided Government', 'Democratic'], dtype=object)"
      ]
     },
     "execution_count": 1093,
     "metadata": {},
     "output_type": "execute_result"
    }
   ],
   "source": [
    "data.political_opinion.unique()"
   ]
  },
  {
   "cell_type": "markdown",
   "id": "c0b71a64",
   "metadata": {},
   "source": [
    "We want to have the ability to work with ``political_opinion`` data so it will be more efficient to convert ``political_opinion`` from catergorial variable (string) to numeric variable (int):"
   ]
  },
  {
   "cell_type": "code",
   "execution_count": 1094,
   "id": "e5b4a0ba",
   "metadata": {},
   "outputs": [],
   "source": [
    "political_opinion_values = {'Republican': 2, 'Democratic': 1, 'Divided Government': 0}\n",
    "data['political_opinion'] = data.political_opinion.map(political_opinion_values)"
   ]
  },
  {
   "cell_type": "code",
   "execution_count": 1095,
   "id": "9000d9af",
   "metadata": {},
   "outputs": [
    {
     "data": {
      "text/plain": [
       "array([2, 0, 1], dtype=int64)"
      ]
     },
     "execution_count": 1095,
     "metadata": {},
     "output_type": "execute_result"
    }
   ],
   "source": [
    "data.political_opinion.unique()"
   ]
  },
  {
   "cell_type": "markdown",
   "id": "d8a531b2",
   "metadata": {},
   "source": [
    "Let's observe at ``grade`` and ``sub_grade`` and variables:\n",
    "\n",
    "We know that ``grade`` is just a sub feature of ``sub_grade``.\n",
    "This is a duplicate data, so we will drop it."
   ]
  },
  {
   "cell_type": "code",
   "execution_count": 1096,
   "id": "6b6a7ac6",
   "metadata": {},
   "outputs": [],
   "source": [
    "data.drop('grade', axis=1, inplace=True)"
   ]
  },
  {
   "cell_type": "markdown",
   "id": "e458d989",
   "metadata": {},
   "source": [
    "All the rest variables are important to us.\n",
    "Therefore we will convert them from categorial variables to dummy variables with ``get_dummies()`` method:"
   ]
  },
  {
   "cell_type": "code",
   "execution_count": 1097,
   "id": "5b31e331",
   "metadata": {
    "scrolled": true
   },
   "outputs": [],
   "source": [
    "dummies = ['sub_grade', 'verification_status', 'purpose', 'initial_list_status', \n",
    "           'application_type', 'home_ownership']\n",
    "\n",
    "data = pd.get_dummies(data, columns=dummies, drop_first=True)\n"
   ]
  },
  {
   "cell_type": "markdown",
   "id": "97b25290",
   "metadata": {},
   "source": [
    "Let's observe at ``address`` variables: \n",
    "\n",
    "We want to extract the zip code value from the address column in the dataset.\n",
    "Therefore, we will create a column called ``zip_code`` that will store zip_code values. "
   ]
  },
  {
   "cell_type": "code",
   "execution_count": 1098,
   "id": "a0a28779",
   "metadata": {},
   "outputs": [
    {
     "data": {
      "text/plain": [
       "0       0174 Michelle Gateway\\r\\nMendozaberg, OK 22690\n",
       "1    1076 Carney Fort Apt. 347\\r\\nLoganmouth, SD 05113\n",
       "2    87025 Mark Dale Apt. 269\\r\\nNew Sabrina, WV 05113\n",
       "3              823 Reid Ford\\r\\nDelacruzside, MA 00813\n",
       "4               679 Luna Roads\\r\\nGreggshire, VA 11650\n",
       "Name: address, dtype: object"
      ]
     },
     "execution_count": 1098,
     "metadata": {},
     "output_type": "execute_result"
    }
   ],
   "source": [
    "data.address.head()"
   ]
  },
  {
   "cell_type": "code",
   "execution_count": 1099,
   "id": "9118ba27",
   "metadata": {},
   "outputs": [],
   "source": [
    "data['zip_code'] = data.address.apply(lambda x: x[-5:])  # save only last 5 chars "
   ]
  },
  {
   "cell_type": "code",
   "execution_count": 1100,
   "id": "8e5433a8",
   "metadata": {},
   "outputs": [
    {
     "data": {
      "text/plain": [
       "70466    49795\n",
       "30723    49417\n",
       "22690    49204\n",
       "48052    48931\n",
       "00813    40135\n",
       "29597    39844\n",
       "05113    39651\n",
       "11650     9764\n",
       "93700     9717\n",
       "86630     9649\n",
       "Name: zip_code, dtype: int64"
      ]
     },
     "execution_count": 1100,
     "metadata": {},
     "output_type": "execute_result"
    }
   ],
   "source": [
    "data.zip_code.value_counts()"
   ]
  },
  {
   "cell_type": "markdown",
   "id": "8622ed76",
   "metadata": {},
   "source": [
    "Now, we will convert them from categorial variables to dummy variables with ``get_dummies()`` method:"
   ]
  },
  {
   "cell_type": "code",
   "execution_count": 1101,
   "id": "22bcfd03",
   "metadata": {},
   "outputs": [],
   "source": [
    "data = pd.get_dummies(data, columns=['zip_code'], drop_first=True)"
   ]
  },
  {
   "cell_type": "markdown",
   "id": "ea1c732c",
   "metadata": {},
   "source": [
    "After extracting ``zip_code`` data, we can drop ``address`` column:"
   ]
  },
  {
   "cell_type": "code",
   "execution_count": 1102,
   "id": "258ebf0c",
   "metadata": {},
   "outputs": [],
   "source": [
    "data.drop('address', axis=1, inplace=True)"
   ]
  },
  {
   "cell_type": "markdown",
   "id": "ad9095bc",
   "metadata": {},
   "source": [
    "Let's observe at ``issue_d`` variable:  \n",
    "\n",
    "``issue_d`` is the month which the loan was funded.\n",
    "\n",
    "Actually, we wouldn't know beforehand whether or not a loan would be issued when using our model, so don't really need it.\n",
    "Therefore we will drop this column."
   ]
  },
  {
   "cell_type": "code",
   "execution_count": 1103,
   "id": "8cbe1521",
   "metadata": {},
   "outputs": [],
   "source": [
    "data.drop('issue_d', axis=1, inplace=True)"
   ]
  },
  {
   "cell_type": "markdown",
   "id": "5f20117b",
   "metadata": {},
   "source": [
    "Let's observe at ``earliest_cr_line`` variable:  \n",
    "\n",
    "\n",
    "It's look like a historical timestamp variable. The only thing that is interesting here is the year in the variable value.\n",
    "We will extract this data and then convert it to a numeric variable."
   ]
  },
  {
   "cell_type": "code",
   "execution_count": 1104,
   "id": "bd30e9cd",
   "metadata": {},
   "outputs": [
    {
     "name": "stdout",
     "output_type": "stream",
     "text": [
      "0         90\n",
      "1         22\n",
      "2         22\n",
      "3         22\n",
      "4         99\n",
      "          ..\n",
      "396024    91\n",
      "396026    22\n",
      "396027    97\n",
      "396028    90\n",
      "396029    98\n",
      "Name: 2, Length: 346107, dtype: object\n"
     ]
    }
   ],
   "source": [
    "x= data.earliest_cr_line.str.split('-', expand=True)[2]\n",
    "print(x)\n",
    "data['earliest_cr_line'] = x"
   ]
  },
  {
   "cell_type": "code",
   "execution_count": 1105,
   "id": "331ce5d8",
   "metadata": {},
   "outputs": [
    {
     "data": {
      "text/plain": [
       "52"
      ]
     },
     "execution_count": 1105,
     "metadata": {},
     "output_type": "execute_result"
    }
   ],
   "source": [
    "data.earliest_cr_line.nunique()"
   ]
  },
  {
   "cell_type": "code",
   "execution_count": 1106,
   "id": "c6497398",
   "metadata": {},
   "outputs": [
    {
     "data": {
      "text/plain": [
       "22    140437\n",
       "00     25601\n",
       "99     23116\n",
       "98     19959\n",
       "97     16376\n",
       "       ...  \n",
       "54         4\n",
       "53         2\n",
       "51         2\n",
       "50         2\n",
       "44         1\n",
       "Name: earliest_cr_line, Length: 52, dtype: int64"
      ]
     },
     "execution_count": 1106,
     "metadata": {},
     "output_type": "execute_result"
    }
   ],
   "source": [
    "data.earliest_cr_line.value_counts()"
   ]
  },
  {
   "cell_type": "code",
   "execution_count": 1107,
   "id": "6632bc75",
   "metadata": {},
   "outputs": [],
   "source": [
    "data.drop('state', axis=1, inplace=True)"
   ]
  },
  {
   "cell_type": "markdown",
   "id": "8c866f55",
   "metadata": {},
   "source": [
    "### Train Test Split"
   ]
  },
  {
   "cell_type": "code",
   "execution_count": 1112,
   "id": "8be1de5e",
   "metadata": {
    "scrolled": true
   },
   "outputs": [
    {
     "name": "stdout",
     "output_type": "stream",
     "text": [
      "(242274, 79)\n",
      "(103833, 79)\n",
      "(242274,)\n",
      "(103833,)\n"
     ]
    }
   ],
   "source": [
    "X = data.drop('loan_status', axis=1)\n",
    "y = data.loan_status\n",
    "\n",
    "X_train, X_test, y_train, y_test = train_test_split(X, y, test_size=0.3, random_state=42, stratify=y)\n",
    "print(X_train.shape)\n",
    "print(X_test.shape)\n",
    "print(y_train.shape)\n",
    "print(y_test.shape)"
   ]
  },
  {
   "cell_type": "markdown",
   "id": "a508b8e0",
   "metadata": {},
   "source": [
    "### Normalizing the data:"
   ]
  },
  {
   "cell_type": "code",
   "execution_count": 1113,
   "id": "f0da318f",
   "metadata": {},
   "outputs": [],
   "source": [
    "scaler = MinMaxScaler()\n",
    "X_train = scaler.fit_transform(X_train) \n",
    "X_test = scaler.transform(X_test)"
   ]
  },
  {
   "cell_type": "markdown",
   "id": "a8061b21",
   "metadata": {},
   "source": [
    "## Models Building"
   ]
  },
  {
   "cell_type": "code",
   "execution_count": 1114,
   "id": "eb9a709a",
   "metadata": {},
   "outputs": [],
   "source": [
    "X_train = np.array(X_train).astype(np.float32)\n",
    "X_test = np.array(X_test).astype(np.float32)\n",
    "y_train = np.array(y_train).astype(np.float32)\n",
    "y_test = np.array(y_test).astype(np.float32)"
   ]
  },
  {
   "cell_type": "markdown",
   "id": "d1f97281",
   "metadata": {},
   "source": [
    "### Our Train algorithm - Random Forest Classifier\n",
    "\n",
    "Random forests can be used both for classification and regression. It is also the most flexible and easy to use algorithm. A forest is comprised of trees. It is said that the more trees it has, the more robust a forest is. Random forests creates decision trees on randomly selected data samples, gets prediction from each tree and selects the best solution by means of voting. It also provides a pretty good indicator of the feature importance.\n",
    "\n",
    "Random forests has a variety of applications, such as recommendation engines, image classification and feature selection. It can be used to classify loyal loan applicants, identify fraudulent activity and predict diseases.\n"
   ]
  },
  {
   "cell_type": "code",
   "execution_count": 1115,
   "id": "30369802",
   "metadata": {},
   "outputs": [],
   "source": [
    "rf_clf = RandomForestClassifier(n_estimators=100)\n",
    "rf_clf.fit(X_train, y_train)\n",
    "\n",
    "y_test_pred = rf_clf.predict(X_test)\n"
   ]
  },
  {
   "cell_type": "markdown",
   "id": "696f7716",
   "metadata": {},
   "source": [
    "Now, we will emphasize our prediction results with confusion_matrix plot:"
   ]
  },
  {
   "cell_type": "code",
   "execution_count": 1120,
   "id": "272ee7b7",
   "metadata": {},
   "outputs": [
    {
     "data": {
      "image/png": "[encoded data removed]",
      "text/plain": [
       "<Figure size 432x288 with 2 Axes>"
      ]
     },
     "metadata": {
      "needs_background": "light"
     },
     "output_type": "display_data"
    }
   ],
   "source": [
    "disp = plot_confusion_matrix(rf_clf, X_test, y_test, \n",
    "                             cmap='Blues', values_format='d', \n",
    "                             display_labels=['Fully-Paid', 'Charged Off'])"
   ]
  },
  {
   "cell_type": "markdown",
   "id": "4454dfa7",
   "metadata": {},
   "source": [
    "<br><br>**Confusion matrix information:**<br>\n",
    "\n",
    "![](https://miro.medium.com/max/445/1*Z54JgbS4DUwWSknhDCvNTQ.png)\n",
    "\n",
    "* **TP - True Positive:**<br>\n",
    "    **Interpretation:** You predicted positive and it’s true.<br>\n",
    "    You predicted that a woman is pregnant and she actually is.<br>\n",
    "* **TN - True Negative:**<br>\n",
    "    **Interpretation:** You predicted negative and it’s true.<br>\n",
    "    You predicted that a man is not pregnant and he actually is not.<br>    \n",
    "* **FP - False Positive:** (Type 1 Error)<br>\n",
    "    **Interpretation:** You predicted positive and it’s false.<br>\n",
    "    You predicted that a man is pregnant but he actually is not.<br>\n",
    "* **FN - False Negative:** (Type 2 Error)<br>\n",
    "    **Interpretation:** You predicted negative and it’s false.<br>\n",
    "    You predicted that a woman is not pregnant but she actually is.<br>"
   ]
  },
  {
   "cell_type": "markdown",
   "id": "d9614e6b",
   "metadata": {},
   "source": [
    "After executing our train model and after predicting the values, we want to check our model.<br>\n",
    "In order to do it, we will create a function that will include couple of method that will check our accuracy, f1_score and more.<br>\n",
    "In order to do it, we will use built-in methods of sklearn.metrics.<br>\n",
    "\n",
    "Let's do it:"
   ]
  },
  {
   "cell_type": "code",
   "execution_count": 1117,
   "id": "163f5828",
   "metadata": {},
   "outputs": [],
   "source": [
    "def print_score(true, pred):\n",
    "    clf_report = pd.DataFrame(classification_report(true, pred, output_dict=True))\n",
    "    print(\"Test Result:\\n================================================\")        \n",
    "    print(f\"Accuracy Score: {accuracy_score(true, pred) * 100:.2f}%\")\n",
    "    print(\"_______________________________________________\")\n",
    "    print(f\"CLASSIFICATION REPORT:\\n{clf_report}\")\n",
    "    print(\"_______________________________________________\")\n",
    "    print(f\"Confusion Matrix: \\n {confusion_matrix(true, pred)}\\n\")"
   ]
  },
  {
   "cell_type": "code",
   "execution_count": 1119,
   "id": "9381e4c8",
   "metadata": {},
   "outputs": [
    {
     "name": "stdout",
     "output_type": "stream",
     "text": [
      "Test Result:\n",
      "================================================\n",
      "Accuracy Score: 88.88%\n",
      "_______________________________________________\n",
      "CLASSIFICATION REPORT:\n",
      "               0.0      1.0  accuracy  macro avg  weighted avg\n",
      "precision     0.88     0.96      0.89       0.92          0.90\n",
      "recall        1.00     0.45      0.89       0.72          0.89\n",
      "f1-score      0.94     0.61      0.89       0.77          0.87\n",
      "support   83475.00 20358.00      0.89  103833.00     103833.00\n",
      "_______________________________________________\n",
      "Confusion Matrix: \n",
      " [[83137   338]\n",
      " [11209  9149]]\n",
      "\n"
     ]
    }
   ],
   "source": [
    "print_score(y_test, y_test_pred)"
   ]
  },
  {
   "cell_type": "markdown",
   "id": "4acf9768",
   "metadata": {},
   "source": [
    "# Conclusion\n",
    "\n",
    "* We can see from the confusion matrix plot that our model succeed to predict effiently the result:\n",
    "    * Our module predict that 83155 people will succeed to pay the loan without penalties (TP). <br>\n",
    "    In the other hand, our model predict that **only** 320 people will not succeed to pay the loan **without** penalties but it's not actually true (FP). <br>\n",
    "    So, in the end our model has right in the **Fully Paid** section with (83155/(83155+320))* 100 = **99.6%** of the cases while it didn't right with only **0.4%** of the cases.\n",
    "    * Our module predict that 11165 people will not succeed to pay the loan without penalties (FN). <br>\n",
    "    In the other hand, our model predict that 9193 people will succeed to pay the loan **without** penalties but it's not actually true (TN). <br>\n",
    "    So, in the end our module has right in the **Charged Off** section with (11165/(11165+9193))* 100 = **54.8%** of the cases while it didn't right with only **45.2%** of the cases.\n",
    "  \n",
    "* From the conclusion, can be seen that that our prediction in the **Charged Off** section can get better.<br>\n",
    "  So, for the next people who might continue our research, I will suggest to check other machine learning algorithms and to find which one is the best on both sections (\"Fully Paid\" and \"Charged Off\"). "
   ]
  },
  {
   "cell_type": "code",
   "execution_count": null,
   "id": "76177c41",
   "metadata": {},
   "outputs": [],
   "source": []
  },
  {
   "cell_type": "code",
   "execution_count": null,
   "id": "f1587606",
   "metadata": {},
   "outputs": [],
   "source": []
  },
  {
   "cell_type": "code",
   "execution_count": null,
   "id": "a5e114c0",
   "metadata": {},
   "outputs": [],
   "source": []
  }
 ],
 "metadata": {
  "kernelspec": {
   "display_name": "Python 3 (ipykernel)",
   "language": "python",
   "name": "python3"
  },
  "language_info": {
   "codemirror_mode": {
    "name": "ipython",
    "version": 3
   },
   "file_extension": ".py",
   "mimetype": "text/x-python",
   "name": "python",
   "nbconvert_exporter": "python",
   "pygments_lexer": "ipython3",
   "version": "3.9.7"
  }
 },
 "nbformat": 4,
 "nbformat_minor": 5
}
